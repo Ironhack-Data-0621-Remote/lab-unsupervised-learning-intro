{
 "cells": [
  {
   "cell_type": "markdown",
   "id": "5f87dc2b-2b1d-42c9-99c1-f96b4137bde4",
   "metadata": {},
   "source": [
    "# Lab | Unsupervised learning"
   ]
  },
  {
   "cell_type": "markdown",
   "id": "e5cd9456-d1f5-44b2-bf3c-0c63ee7d89ff",
   "metadata": {},
   "source": [
    "## Libraries"
   ]
  },
  {
   "cell_type": "code",
   "execution_count": null,
   "id": "a1e2c120-11f4-4758-b767-f52eb5d8c7c9",
   "metadata": {},
   "outputs": [],
   "source": [
    "import matplotlib.pyplot as plt\n",
    "\n",
    "import numpy as np\n",
    "import pandas as pd\n",
    "\n",
    "from sklearn.cluster import KMeans\n",
    "from sklearn.metrics import classification_report\n",
    "from sklearn.metrics import silhouette_score\n",
    "from sklearn.preprocessing import StandardScaler"
   ]
  },
  {
   "cell_type": "markdown",
   "id": "73babeb3-2917-4a0c-9d4e-f2d480236f4a",
   "metadata": {},
   "source": [
    "## Importing data"
   ]
  },
  {
   "cell_type": "code",
   "execution_count": null,
   "id": "fc84f89b-f0e3-4c32-8ef9-c29a2dfc8f29",
   "metadata": {},
   "outputs": [],
   "source": []
  },
  {
   "cell_type": "markdown",
   "id": "1281df61-ebc4-417f-932f-80115ba99a5b",
   "metadata": {},
   "source": [
    "## Clustering the data"
   ]
  },
  {
   "cell_type": "markdown",
   "id": "678379d0-642f-4d9d-8fc3-273596dcbaed",
   "metadata": {},
   "source": [
    "### Preprocessing"
   ]
  },
  {
   "cell_type": "code",
   "execution_count": null,
   "id": "2299a6a7-2555-4d68-b1e2-ae332547f161",
   "metadata": {},
   "outputs": [],
   "source": [
    "# K-Means is a distance based algorithm: we need to scale / normalize:\n",
    "\n",
    "X_prep = StandardScaler().fit_transform(X)\n",
    "\n",
    "pd.DataFrame(X_prep).head()"
   ]
  },
  {
   "cell_type": "markdown",
   "id": "a8028461-aaf2-49d3-9432-06a44e54df71",
   "metadata": {},
   "source": [
    "### Model building (k-means)"
   ]
  },
  {
   "cell_type": "code",
   "execution_count": null,
   "id": "3e3610c1-4488-4be7-8e89-eadaecf5aad7",
   "metadata": {},
   "outputs": [],
   "source": [
    "kmeans = KMeans(n_clusters=3, random_state=42)\n",
    "kmeans.fit(X_prep)"
   ]
  },
  {
   "cell_type": "code",
   "execution_count": null,
   "id": "8413e142-29c7-4c3d-83d4-bb2c58c0e1c4",
   "metadata": {},
   "outputs": [],
   "source": [
    "# Predicting / assigning the clusters:\n",
    "clusters = kmeans.predict(X_prep)\n",
    "clusters"
   ]
  },
  {
   "cell_type": "code",
   "execution_count": null,
   "id": "770fee91-257a-4a97-9bce-c2841b83d1bb",
   "metadata": {},
   "outputs": [],
   "source": [
    "# Check the size of the clusters\n",
    "pd.Series(clusters).value_counts().sort_index()"
   ]
  },
  {
   "cell_type": "code",
   "execution_count": null,
   "id": "e778b9a3-70db-4d7f-a789-302c5a664481",
   "metadata": {},
   "outputs": [],
   "source": [
    "# Explore the cluster assignment in the original dataset\n",
    "X_df = pd.DataFrame(X)\n",
    "X_df[\"cluster\"] = clusters\n",
    "X_df.head()"
   ]
  },
  {
   "cell_type": "code",
   "execution_count": null,
   "id": "48da4802-6758-422a-884a-1c4a2f402d8a",
   "metadata": {},
   "outputs": [],
   "source": [
    "# \"performance metric\"\n",
    "kmeans.inertia_"
   ]
  },
  {
   "cell_type": "markdown",
   "id": "374090fd-6a8b-43ca-b479-9c4b545656d8",
   "metadata": {},
   "source": [
    "### Chosing the best k"
   ]
  },
  {
   "cell_type": "code",
   "execution_count": null,
   "id": "c2208198-fad2-4212-806f-77606402c0b4",
   "metadata": {},
   "outputs": [],
   "source": [
    "kmeans = KMeans(n_clusters=3, random_state=1234, verbose=1, n_init=1)\n",
    "kmeans.fit(X_prep)\n",
    "kmeans.inertia_"
   ]
  },
  {
   "cell_type": "code",
   "execution_count": null,
   "id": "12b5308e-510c-4315-8738-584366e794a2",
   "metadata": {},
   "outputs": [],
   "source": [
    "plt.figure(figsize=(16,8))\n",
    "plt.plot(K, inertia, 'bx-')\n",
    "plt.xlabel('k')\n",
    "plt.ylabel('inertia')\n",
    "plt.xticks(np.arange(min(K), max(K)+1, 1.0))\n",
    "plt.show()"
   ]
  },
  {
   "cell_type": "markdown",
   "id": "ce37322d-4a0e-4faa-82cc-8bb1661d47f9",
   "metadata": {},
   "source": [
    "### Silhouette score"
   ]
  },
  {
   "cell_type": "code",
   "execution_count": null,
   "id": "a47e19af-a1ad-4956-826b-4a2a49c75cba",
   "metadata": {},
   "outputs": [],
   "source": [
    "K = range(2, 20)\n",
    "\n",
    "silhouette = []\n",
    "\n",
    "for k in K:\n",
    "    kmeans = KMeans(n_clusters=k, random_state=42)\n",
    "    kmeans.fit(X_prep)\n",
    "    silhouette.append(silhouette_score(X_prep, kmeans.predict(X_prep)))\n",
    "\n",
    "\n",
    "plt.figure(figsize=(16,8))\n",
    "plt.plot(K, silhouette, 'bx-')\n",
    "plt.xlabel('k')\n",
    "plt.ylabel('silhouette score')\n",
    "plt.xticks(np.arange(min(K), max(K)+1, 1.0))\n",
    "plt.show()"
   ]
  },
  {
   "cell_type": "code",
   "execution_count": null,
   "id": "d8ad3385-ff74-45da-aad8-9b4ac15c294e",
   "metadata": {},
   "outputs": [],
   "source": [
    "print(classification_report(y, X_df['cluster']))"
   ]
  }
 ],
 "metadata": {
  "kernelspec": {
   "display_name": "Python 3",
   "language": "python",
   "name": "python3"
  },
  "language_info": {
   "codemirror_mode": {
    "name": "ipython",
    "version": 3
   },
   "file_extension": ".py",
   "mimetype": "text/x-python",
   "name": "python",
   "nbconvert_exporter": "python",
   "pygments_lexer": "ipython3",
   "version": "3.9.6"
  }
 },
 "nbformat": 4,
 "nbformat_minor": 5
}
