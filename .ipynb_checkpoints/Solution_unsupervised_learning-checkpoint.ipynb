{
 "cells": [
  {
   "cell_type": "markdown",
   "id": "41aaec47",
   "metadata": {},
   "source": [
    "Instructions\n",
    "It's the moment to perform clustering on the songs you collected. Remember that the ultimate goal of this little project is to improve the recommendations of artists. Clustering the songs will allow the recommendation system to limit the scope of the recommendations to only songs that belong to the same cluster - songs with similar audio features.\n",
    "\n",
    "The experiments you did with the Spotify API and the Billboard web scraping will allow you to create a pipeline such that when the user enters a song, you:\n",
    "\n",
    "Check whether or not the song is in the Billboard Hot 200.\n",
    "Collect the audio features from the Spotify API.\n",
    "After that, you want to send the Spotify audio features of the submitted song to the clustering model, which should return a cluster number.\n",
    "\n",
    "We want to have as many songs as possible to create the clustering model, so we will add the songs you collected to a bigger dataset available on Kaggle containing 160 thousand songs."
   ]
  },
  {
   "cell_type": "markdown",
   "id": "349616de",
   "metadata": {},
   "source": [
    "## import libraries"
   ]
  },
  {
   "cell_type": "code",
   "execution_count": 1,
   "id": "d76da847",
   "metadata": {},
   "outputs": [],
   "source": [
    "import pandas as pd\n",
    "from sklearn.preprocessing import StandardScaler\n",
    "from sklearn.cluster import KMeans\n",
    "import matplotlib.pyplot as plt\n",
    "import numpy as np"
   ]
  },
  {
   "cell_type": "markdown",
   "id": "dab627ce",
   "metadata": {},
   "source": [
    "## import data set from previous lab"
   ]
  },
  {
   "cell_type": "code",
   "execution_count": 2,
   "id": "cff969c8",
   "metadata": {},
   "outputs": [
    {
     "data": {
      "text/html": [
       "<div>\n",
       "<style scoped>\n",
       "    .dataframe tbody tr th:only-of-type {\n",
       "        vertical-align: middle;\n",
       "    }\n",
       "\n",
       "    .dataframe tbody tr th {\n",
       "        vertical-align: top;\n",
       "    }\n",
       "\n",
       "    .dataframe thead th {\n",
       "        text-align: right;\n",
       "    }\n",
       "</style>\n",
       "<table border=\"1\" class=\"dataframe\">\n",
       "  <thead>\n",
       "    <tr style=\"text-align: right;\">\n",
       "      <th></th>\n",
       "      <th>Unnamed: 0</th>\n",
       "      <th>artist</th>\n",
       "      <th>album</th>\n",
       "      <th>track_name</th>\n",
       "      <th>track_id</th>\n",
       "      <th>danceability</th>\n",
       "      <th>energy</th>\n",
       "      <th>key</th>\n",
       "      <th>loudness</th>\n",
       "      <th>mode</th>\n",
       "      <th>speechiness</th>\n",
       "      <th>instrumentalness</th>\n",
       "      <th>liveness</th>\n",
       "      <th>valence</th>\n",
       "      <th>tempo</th>\n",
       "      <th>duration_ms</th>\n",
       "      <th>time_signature</th>\n",
       "    </tr>\n",
       "  </thead>\n",
       "  <tbody>\n",
       "    <tr>\n",
       "      <th>0</th>\n",
       "      <td>0</td>\n",
       "      <td>Sweet Oscar</td>\n",
       "      <td>Summer</td>\n",
       "      <td>Summer</td>\n",
       "      <td>2qTZ6o9q4vxxVlGbsJCFTA</td>\n",
       "      <td>0.789</td>\n",
       "      <td>0.475</td>\n",
       "      <td>0</td>\n",
       "      <td>-17.032</td>\n",
       "      <td>1</td>\n",
       "      <td>0.0650</td>\n",
       "      <td>0.881</td>\n",
       "      <td>0.1110</td>\n",
       "      <td>0.271</td>\n",
       "      <td>169.940</td>\n",
       "      <td>116471</td>\n",
       "      <td>4</td>\n",
       "    </tr>\n",
       "    <tr>\n",
       "      <th>1</th>\n",
       "      <td>1</td>\n",
       "      <td>Gregory David</td>\n",
       "      <td>After Hours</td>\n",
       "      <td>The Rooftop</td>\n",
       "      <td>3QGeVTGNN77x4oQcUneQp5</td>\n",
       "      <td>0.721</td>\n",
       "      <td>0.487</td>\n",
       "      <td>2</td>\n",
       "      <td>-9.519</td>\n",
       "      <td>0</td>\n",
       "      <td>0.1440</td>\n",
       "      <td>0.855</td>\n",
       "      <td>0.2300</td>\n",
       "      <td>0.537</td>\n",
       "      <td>78.055</td>\n",
       "      <td>212309</td>\n",
       "      <td>4</td>\n",
       "    </tr>\n",
       "    <tr>\n",
       "      <th>2</th>\n",
       "      <td>2</td>\n",
       "      <td>Midnight Smoothie</td>\n",
       "      <td>Night Blue Skies</td>\n",
       "      <td>Night Blue Skies</td>\n",
       "      <td>69oebUHeibzbgcD1MUsSsl</td>\n",
       "      <td>0.543</td>\n",
       "      <td>0.602</td>\n",
       "      <td>1</td>\n",
       "      <td>-10.862</td>\n",
       "      <td>1</td>\n",
       "      <td>0.0646</td>\n",
       "      <td>0.867</td>\n",
       "      <td>0.1910</td>\n",
       "      <td>0.527</td>\n",
       "      <td>84.985</td>\n",
       "      <td>128442</td>\n",
       "      <td>4</td>\n",
       "    </tr>\n",
       "    <tr>\n",
       "      <th>3</th>\n",
       "      <td>3</td>\n",
       "      <td>Cloudchord</td>\n",
       "      <td>Low Key</td>\n",
       "      <td>Low Key</td>\n",
       "      <td>2rdlNy8ioOeyHNzcgp5lRw</td>\n",
       "      <td>0.758</td>\n",
       "      <td>0.577</td>\n",
       "      <td>8</td>\n",
       "      <td>-8.259</td>\n",
       "      <td>1</td>\n",
       "      <td>0.0921</td>\n",
       "      <td>0.650</td>\n",
       "      <td>0.1330</td>\n",
       "      <td>0.521</td>\n",
       "      <td>88.395</td>\n",
       "      <td>155091</td>\n",
       "      <td>4</td>\n",
       "    </tr>\n",
       "    <tr>\n",
       "      <th>4</th>\n",
       "      <td>4</td>\n",
       "      <td>So_nny</td>\n",
       "      <td>Wonderland</td>\n",
       "      <td>Wonderland</td>\n",
       "      <td>6qeMnGssbQmFZQ4NA9NPT2</td>\n",
       "      <td>0.726</td>\n",
       "      <td>0.369</td>\n",
       "      <td>0</td>\n",
       "      <td>-10.117</td>\n",
       "      <td>0</td>\n",
       "      <td>0.0490</td>\n",
       "      <td>0.840</td>\n",
       "      <td>0.1380</td>\n",
       "      <td>0.726</td>\n",
       "      <td>80.018</td>\n",
       "      <td>150000</td>\n",
       "      <td>4</td>\n",
       "    </tr>\n",
       "    <tr>\n",
       "      <th>...</th>\n",
       "      <td>...</td>\n",
       "      <td>...</td>\n",
       "      <td>...</td>\n",
       "      <td>...</td>\n",
       "      <td>...</td>\n",
       "      <td>...</td>\n",
       "      <td>...</td>\n",
       "      <td>...</td>\n",
       "      <td>...</td>\n",
       "      <td>...</td>\n",
       "      <td>...</td>\n",
       "      <td>...</td>\n",
       "      <td>...</td>\n",
       "      <td>...</td>\n",
       "      <td>...</td>\n",
       "      <td>...</td>\n",
       "      <td>...</td>\n",
       "    </tr>\n",
       "    <tr>\n",
       "      <th>190</th>\n",
       "      <td>190</td>\n",
       "      <td>Sobremesa</td>\n",
       "      <td>Wee Hours</td>\n",
       "      <td>Wee Hours</td>\n",
       "      <td>1AmusTPVvkxMo7pTKrGWoE</td>\n",
       "      <td>0.671</td>\n",
       "      <td>0.622</td>\n",
       "      <td>2</td>\n",
       "      <td>-8.898</td>\n",
       "      <td>0</td>\n",
       "      <td>0.0401</td>\n",
       "      <td>0.849</td>\n",
       "      <td>0.0999</td>\n",
       "      <td>0.522</td>\n",
       "      <td>181.953</td>\n",
       "      <td>152417</td>\n",
       "      <td>4</td>\n",
       "    </tr>\n",
       "    <tr>\n",
       "      <th>191</th>\n",
       "      <td>191</td>\n",
       "      <td>Floraboros</td>\n",
       "      <td>Heat Wave</td>\n",
       "      <td>Heat Wave</td>\n",
       "      <td>0C3u3qhOe64OTvfUq0MD9M</td>\n",
       "      <td>0.763</td>\n",
       "      <td>0.425</td>\n",
       "      <td>1</td>\n",
       "      <td>-8.128</td>\n",
       "      <td>1</td>\n",
       "      <td>0.0589</td>\n",
       "      <td>0.713</td>\n",
       "      <td>0.1000</td>\n",
       "      <td>0.497</td>\n",
       "      <td>84.992</td>\n",
       "      <td>128471</td>\n",
       "      <td>4</td>\n",
       "    </tr>\n",
       "    <tr>\n",
       "      <th>192</th>\n",
       "      <td>192</td>\n",
       "      <td>Moe Ito</td>\n",
       "      <td>Brunch Time</td>\n",
       "      <td>Brunch Time</td>\n",
       "      <td>3K53uwXTeTZJ1e1G4aZuqU</td>\n",
       "      <td>0.890</td>\n",
       "      <td>0.407</td>\n",
       "      <td>3</td>\n",
       "      <td>-11.320</td>\n",
       "      <td>1</td>\n",
       "      <td>0.0405</td>\n",
       "      <td>0.904</td>\n",
       "      <td>0.1030</td>\n",
       "      <td>0.627</td>\n",
       "      <td>84.999</td>\n",
       "      <td>183529</td>\n",
       "      <td>4</td>\n",
       "    </tr>\n",
       "    <tr>\n",
       "      <th>193</th>\n",
       "      <td>193</td>\n",
       "      <td>DJ Grumble</td>\n",
       "      <td>Ft2020</td>\n",
       "      <td>HelloHello</td>\n",
       "      <td>65IGYjWJG1Esvl5vA8UTqA</td>\n",
       "      <td>0.676</td>\n",
       "      <td>0.792</td>\n",
       "      <td>2</td>\n",
       "      <td>-4.291</td>\n",
       "      <td>1</td>\n",
       "      <td>0.0377</td>\n",
       "      <td>0.346</td>\n",
       "      <td>0.1010</td>\n",
       "      <td>0.866</td>\n",
       "      <td>101.197</td>\n",
       "      <td>80405</td>\n",
       "      <td>4</td>\n",
       "    </tr>\n",
       "    <tr>\n",
       "      <th>194</th>\n",
       "      <td>194</td>\n",
       "      <td>Beat Oven</td>\n",
       "      <td>Chips &amp; Dip</td>\n",
       "      <td>Chips</td>\n",
       "      <td>2cXdC5qNqc5Gk0X6JtjUqH</td>\n",
       "      <td>0.725</td>\n",
       "      <td>0.434</td>\n",
       "      <td>6</td>\n",
       "      <td>-8.768</td>\n",
       "      <td>1</td>\n",
       "      <td>0.1920</td>\n",
       "      <td>0.789</td>\n",
       "      <td>0.1190</td>\n",
       "      <td>0.957</td>\n",
       "      <td>179.936</td>\n",
       "      <td>90667</td>\n",
       "      <td>4</td>\n",
       "    </tr>\n",
       "  </tbody>\n",
       "</table>\n",
       "<p>195 rows × 17 columns</p>\n",
       "</div>"
      ],
      "text/plain": [
       "     Unnamed: 0             artist             album        track_name  \\\n",
       "0             0        Sweet Oscar            Summer            Summer   \n",
       "1             1      Gregory David       After Hours       The Rooftop   \n",
       "2             2  Midnight Smoothie  Night Blue Skies  Night Blue Skies   \n",
       "3             3         Cloudchord           Low Key           Low Key   \n",
       "4             4             So_nny        Wonderland        Wonderland   \n",
       "..          ...                ...               ...               ...   \n",
       "190         190          Sobremesa         Wee Hours         Wee Hours   \n",
       "191         191         Floraboros         Heat Wave         Heat Wave   \n",
       "192         192            Moe Ito       Brunch Time       Brunch Time   \n",
       "193         193         DJ Grumble            Ft2020        HelloHello   \n",
       "194         194          Beat Oven       Chips & Dip             Chips   \n",
       "\n",
       "                   track_id  danceability  energy  key  loudness  mode  \\\n",
       "0    2qTZ6o9q4vxxVlGbsJCFTA         0.789   0.475    0   -17.032     1   \n",
       "1    3QGeVTGNN77x4oQcUneQp5         0.721   0.487    2    -9.519     0   \n",
       "2    69oebUHeibzbgcD1MUsSsl         0.543   0.602    1   -10.862     1   \n",
       "3    2rdlNy8ioOeyHNzcgp5lRw         0.758   0.577    8    -8.259     1   \n",
       "4    6qeMnGssbQmFZQ4NA9NPT2         0.726   0.369    0   -10.117     0   \n",
       "..                      ...           ...     ...  ...       ...   ...   \n",
       "190  1AmusTPVvkxMo7pTKrGWoE         0.671   0.622    2    -8.898     0   \n",
       "191  0C3u3qhOe64OTvfUq0MD9M         0.763   0.425    1    -8.128     1   \n",
       "192  3K53uwXTeTZJ1e1G4aZuqU         0.890   0.407    3   -11.320     1   \n",
       "193  65IGYjWJG1Esvl5vA8UTqA         0.676   0.792    2    -4.291     1   \n",
       "194  2cXdC5qNqc5Gk0X6JtjUqH         0.725   0.434    6    -8.768     1   \n",
       "\n",
       "     speechiness  instrumentalness  liveness  valence    tempo  duration_ms  \\\n",
       "0         0.0650             0.881    0.1110    0.271  169.940       116471   \n",
       "1         0.1440             0.855    0.2300    0.537   78.055       212309   \n",
       "2         0.0646             0.867    0.1910    0.527   84.985       128442   \n",
       "3         0.0921             0.650    0.1330    0.521   88.395       155091   \n",
       "4         0.0490             0.840    0.1380    0.726   80.018       150000   \n",
       "..           ...               ...       ...      ...      ...          ...   \n",
       "190       0.0401             0.849    0.0999    0.522  181.953       152417   \n",
       "191       0.0589             0.713    0.1000    0.497   84.992       128471   \n",
       "192       0.0405             0.904    0.1030    0.627   84.999       183529   \n",
       "193       0.0377             0.346    0.1010    0.866  101.197        80405   \n",
       "194       0.1920             0.789    0.1190    0.957  179.936        90667   \n",
       "\n",
       "     time_signature  \n",
       "0                 4  \n",
       "1                 4  \n",
       "2                 4  \n",
       "3                 4  \n",
       "4                 4  \n",
       "..              ...  \n",
       "190               4  \n",
       "191               4  \n",
       "192               4  \n",
       "193               4  \n",
       "194               4  \n",
       "\n",
       "[195 rows x 17 columns]"
      ]
     },
     "execution_count": 2,
     "metadata": {},
     "output_type": "execute_result"
    }
   ],
   "source": [
    "data = pd.read_csv('/Users/yuriawano/lab-api-wrappers/spotify_playlist.csv')\n",
    "data"
   ]
  },
  {
   "cell_type": "code",
   "execution_count": null,
   "id": "865b29bc",
   "metadata": {},
   "outputs": [],
   "source": []
  },
  {
   "cell_type": "code",
   "execution_count": null,
   "id": "86cf2437",
   "metadata": {},
   "outputs": [],
   "source": []
  },
  {
   "cell_type": "markdown",
   "id": "9f41d2b2",
   "metadata": {},
   "source": [
    "## data cleaning\n",
    "- drop columns [Unnamed: 0, artist, album, track_name, track_id) as they are unique names or that it occures more than one time rarely"
   ]
  },
  {
   "cell_type": "code",
   "execution_count": 3,
   "id": "f5501ae6",
   "metadata": {},
   "outputs": [
    {
     "data": {
      "text/plain": [
       "Index(['Unnamed: 0', 'artist', 'album', 'track_name', 'track_id',\n",
       "       'danceability', 'energy', 'key', 'loudness', 'mode', 'speechiness',\n",
       "       'instrumentalness', 'liveness', 'valence', 'tempo', 'duration_ms',\n",
       "       'time_signature'],\n",
       "      dtype='object')"
      ]
     },
     "execution_count": 3,
     "metadata": {},
     "output_type": "execute_result"
    }
   ],
   "source": [
    "data.columns"
   ]
  },
  {
   "cell_type": "code",
   "execution_count": 4,
   "id": "fbb2d47f",
   "metadata": {},
   "outputs": [
    {
     "data": {
      "text/html": [
       "<div>\n",
       "<style scoped>\n",
       "    .dataframe tbody tr th:only-of-type {\n",
       "        vertical-align: middle;\n",
       "    }\n",
       "\n",
       "    .dataframe tbody tr th {\n",
       "        vertical-align: top;\n",
       "    }\n",
       "\n",
       "    .dataframe thead th {\n",
       "        text-align: right;\n",
       "    }\n",
       "</style>\n",
       "<table border=\"1\" class=\"dataframe\">\n",
       "  <thead>\n",
       "    <tr style=\"text-align: right;\">\n",
       "      <th></th>\n",
       "      <th>danceability</th>\n",
       "      <th>energy</th>\n",
       "      <th>key</th>\n",
       "      <th>loudness</th>\n",
       "      <th>mode</th>\n",
       "      <th>speechiness</th>\n",
       "      <th>instrumentalness</th>\n",
       "      <th>liveness</th>\n",
       "      <th>valence</th>\n",
       "      <th>tempo</th>\n",
       "      <th>duration_ms</th>\n",
       "      <th>time_signature</th>\n",
       "    </tr>\n",
       "  </thead>\n",
       "  <tbody>\n",
       "    <tr>\n",
       "      <th>0</th>\n",
       "      <td>0.789</td>\n",
       "      <td>0.475</td>\n",
       "      <td>0</td>\n",
       "      <td>-17.032</td>\n",
       "      <td>1</td>\n",
       "      <td>0.0650</td>\n",
       "      <td>0.881</td>\n",
       "      <td>0.1110</td>\n",
       "      <td>0.271</td>\n",
       "      <td>169.940</td>\n",
       "      <td>116471</td>\n",
       "      <td>4</td>\n",
       "    </tr>\n",
       "    <tr>\n",
       "      <th>1</th>\n",
       "      <td>0.721</td>\n",
       "      <td>0.487</td>\n",
       "      <td>2</td>\n",
       "      <td>-9.519</td>\n",
       "      <td>0</td>\n",
       "      <td>0.1440</td>\n",
       "      <td>0.855</td>\n",
       "      <td>0.2300</td>\n",
       "      <td>0.537</td>\n",
       "      <td>78.055</td>\n",
       "      <td>212309</td>\n",
       "      <td>4</td>\n",
       "    </tr>\n",
       "    <tr>\n",
       "      <th>2</th>\n",
       "      <td>0.543</td>\n",
       "      <td>0.602</td>\n",
       "      <td>1</td>\n",
       "      <td>-10.862</td>\n",
       "      <td>1</td>\n",
       "      <td>0.0646</td>\n",
       "      <td>0.867</td>\n",
       "      <td>0.1910</td>\n",
       "      <td>0.527</td>\n",
       "      <td>84.985</td>\n",
       "      <td>128442</td>\n",
       "      <td>4</td>\n",
       "    </tr>\n",
       "    <tr>\n",
       "      <th>3</th>\n",
       "      <td>0.758</td>\n",
       "      <td>0.577</td>\n",
       "      <td>8</td>\n",
       "      <td>-8.259</td>\n",
       "      <td>1</td>\n",
       "      <td>0.0921</td>\n",
       "      <td>0.650</td>\n",
       "      <td>0.1330</td>\n",
       "      <td>0.521</td>\n",
       "      <td>88.395</td>\n",
       "      <td>155091</td>\n",
       "      <td>4</td>\n",
       "    </tr>\n",
       "    <tr>\n",
       "      <th>4</th>\n",
       "      <td>0.726</td>\n",
       "      <td>0.369</td>\n",
       "      <td>0</td>\n",
       "      <td>-10.117</td>\n",
       "      <td>0</td>\n",
       "      <td>0.0490</td>\n",
       "      <td>0.840</td>\n",
       "      <td>0.1380</td>\n",
       "      <td>0.726</td>\n",
       "      <td>80.018</td>\n",
       "      <td>150000</td>\n",
       "      <td>4</td>\n",
       "    </tr>\n",
       "    <tr>\n",
       "      <th>...</th>\n",
       "      <td>...</td>\n",
       "      <td>...</td>\n",
       "      <td>...</td>\n",
       "      <td>...</td>\n",
       "      <td>...</td>\n",
       "      <td>...</td>\n",
       "      <td>...</td>\n",
       "      <td>...</td>\n",
       "      <td>...</td>\n",
       "      <td>...</td>\n",
       "      <td>...</td>\n",
       "      <td>...</td>\n",
       "    </tr>\n",
       "    <tr>\n",
       "      <th>190</th>\n",
       "      <td>0.671</td>\n",
       "      <td>0.622</td>\n",
       "      <td>2</td>\n",
       "      <td>-8.898</td>\n",
       "      <td>0</td>\n",
       "      <td>0.0401</td>\n",
       "      <td>0.849</td>\n",
       "      <td>0.0999</td>\n",
       "      <td>0.522</td>\n",
       "      <td>181.953</td>\n",
       "      <td>152417</td>\n",
       "      <td>4</td>\n",
       "    </tr>\n",
       "    <tr>\n",
       "      <th>191</th>\n",
       "      <td>0.763</td>\n",
       "      <td>0.425</td>\n",
       "      <td>1</td>\n",
       "      <td>-8.128</td>\n",
       "      <td>1</td>\n",
       "      <td>0.0589</td>\n",
       "      <td>0.713</td>\n",
       "      <td>0.1000</td>\n",
       "      <td>0.497</td>\n",
       "      <td>84.992</td>\n",
       "      <td>128471</td>\n",
       "      <td>4</td>\n",
       "    </tr>\n",
       "    <tr>\n",
       "      <th>192</th>\n",
       "      <td>0.890</td>\n",
       "      <td>0.407</td>\n",
       "      <td>3</td>\n",
       "      <td>-11.320</td>\n",
       "      <td>1</td>\n",
       "      <td>0.0405</td>\n",
       "      <td>0.904</td>\n",
       "      <td>0.1030</td>\n",
       "      <td>0.627</td>\n",
       "      <td>84.999</td>\n",
       "      <td>183529</td>\n",
       "      <td>4</td>\n",
       "    </tr>\n",
       "    <tr>\n",
       "      <th>193</th>\n",
       "      <td>0.676</td>\n",
       "      <td>0.792</td>\n",
       "      <td>2</td>\n",
       "      <td>-4.291</td>\n",
       "      <td>1</td>\n",
       "      <td>0.0377</td>\n",
       "      <td>0.346</td>\n",
       "      <td>0.1010</td>\n",
       "      <td>0.866</td>\n",
       "      <td>101.197</td>\n",
       "      <td>80405</td>\n",
       "      <td>4</td>\n",
       "    </tr>\n",
       "    <tr>\n",
       "      <th>194</th>\n",
       "      <td>0.725</td>\n",
       "      <td>0.434</td>\n",
       "      <td>6</td>\n",
       "      <td>-8.768</td>\n",
       "      <td>1</td>\n",
       "      <td>0.1920</td>\n",
       "      <td>0.789</td>\n",
       "      <td>0.1190</td>\n",
       "      <td>0.957</td>\n",
       "      <td>179.936</td>\n",
       "      <td>90667</td>\n",
       "      <td>4</td>\n",
       "    </tr>\n",
       "  </tbody>\n",
       "</table>\n",
       "<p>195 rows × 12 columns</p>\n",
       "</div>"
      ],
      "text/plain": [
       "     danceability  energy  key  loudness  mode  speechiness  instrumentalness  \\\n",
       "0           0.789   0.475    0   -17.032     1       0.0650             0.881   \n",
       "1           0.721   0.487    2    -9.519     0       0.1440             0.855   \n",
       "2           0.543   0.602    1   -10.862     1       0.0646             0.867   \n",
       "3           0.758   0.577    8    -8.259     1       0.0921             0.650   \n",
       "4           0.726   0.369    0   -10.117     0       0.0490             0.840   \n",
       "..            ...     ...  ...       ...   ...          ...               ...   \n",
       "190         0.671   0.622    2    -8.898     0       0.0401             0.849   \n",
       "191         0.763   0.425    1    -8.128     1       0.0589             0.713   \n",
       "192         0.890   0.407    3   -11.320     1       0.0405             0.904   \n",
       "193         0.676   0.792    2    -4.291     1       0.0377             0.346   \n",
       "194         0.725   0.434    6    -8.768     1       0.1920             0.789   \n",
       "\n",
       "     liveness  valence    tempo  duration_ms  time_signature  \n",
       "0      0.1110    0.271  169.940       116471               4  \n",
       "1      0.2300    0.537   78.055       212309               4  \n",
       "2      0.1910    0.527   84.985       128442               4  \n",
       "3      0.1330    0.521   88.395       155091               4  \n",
       "4      0.1380    0.726   80.018       150000               4  \n",
       "..        ...      ...      ...          ...             ...  \n",
       "190    0.0999    0.522  181.953       152417               4  \n",
       "191    0.1000    0.497   84.992       128471               4  \n",
       "192    0.1030    0.627   84.999       183529               4  \n",
       "193    0.1010    0.866  101.197        80405               4  \n",
       "194    0.1190    0.957  179.936        90667               4  \n",
       "\n",
       "[195 rows x 12 columns]"
      ]
     },
     "execution_count": 4,
     "metadata": {},
     "output_type": "execute_result"
    }
   ],
   "source": [
    "data = data.drop(['Unnamed: 0', 'artist', 'album', 'track_name', 'track_id'], axis = 1)\n",
    "data"
   ]
  },
  {
   "cell_type": "markdown",
   "id": "6294eed2",
   "metadata": {},
   "source": [
    "## Data normalization / standardization"
   ]
  },
  {
   "cell_type": "code",
   "execution_count": 5,
   "id": "a75d8748",
   "metadata": {},
   "outputs": [
    {
     "name": "stdout",
     "output_type": "stream",
     "text": [
      "<class 'pandas.core.frame.DataFrame'>\n",
      "RangeIndex: 195 entries, 0 to 194\n",
      "Data columns (total 12 columns):\n",
      " #   Column            Non-Null Count  Dtype  \n",
      "---  ------            --------------  -----  \n",
      " 0   danceability      195 non-null    float64\n",
      " 1   energy            195 non-null    float64\n",
      " 2   key               195 non-null    int64  \n",
      " 3   loudness          195 non-null    float64\n",
      " 4   mode              195 non-null    int64  \n",
      " 5   speechiness       195 non-null    float64\n",
      " 6   instrumentalness  195 non-null    float64\n",
      " 7   liveness          195 non-null    float64\n",
      " 8   valence           195 non-null    float64\n",
      " 9   tempo             195 non-null    float64\n",
      " 10  duration_ms       195 non-null    int64  \n",
      " 11  time_signature    195 non-null    int64  \n",
      "dtypes: float64(8), int64(4)\n",
      "memory usage: 18.4 KB\n"
     ]
    }
   ],
   "source": [
    "X = data\n",
    "\n",
    "X.info()"
   ]
  },
  {
   "cell_type": "code",
   "execution_count": 6,
   "id": "1597e25d",
   "metadata": {},
   "outputs": [
    {
     "data": {
      "text/html": [
       "<div>\n",
       "<style scoped>\n",
       "    .dataframe tbody tr th:only-of-type {\n",
       "        vertical-align: middle;\n",
       "    }\n",
       "\n",
       "    .dataframe tbody tr th {\n",
       "        vertical-align: top;\n",
       "    }\n",
       "\n",
       "    .dataframe thead th {\n",
       "        text-align: right;\n",
       "    }\n",
       "</style>\n",
       "<table border=\"1\" class=\"dataframe\">\n",
       "  <thead>\n",
       "    <tr style=\"text-align: right;\">\n",
       "      <th></th>\n",
       "      <th>0</th>\n",
       "      <th>1</th>\n",
       "      <th>2</th>\n",
       "      <th>3</th>\n",
       "      <th>4</th>\n",
       "      <th>5</th>\n",
       "      <th>6</th>\n",
       "      <th>7</th>\n",
       "      <th>8</th>\n",
       "      <th>9</th>\n",
       "      <th>10</th>\n",
       "      <th>11</th>\n",
       "    </tr>\n",
       "  </thead>\n",
       "  <tbody>\n",
       "    <tr>\n",
       "      <th>0</th>\n",
       "      <td>0.899089</td>\n",
       "      <td>0.226134</td>\n",
       "      <td>-1.502445</td>\n",
       "      <td>-1.821881</td>\n",
       "      <td>0.984732</td>\n",
       "      <td>-0.465128</td>\n",
       "      <td>0.484643</td>\n",
       "      <td>-0.379435</td>\n",
       "      <td>-1.041371</td>\n",
       "      <td>1.513713</td>\n",
       "      <td>-0.639812</td>\n",
       "      <td>0.169476</td>\n",
       "    </tr>\n",
       "    <tr>\n",
       "      <th>1</th>\n",
       "      <td>0.248400</td>\n",
       "      <td>0.302590</td>\n",
       "      <td>-0.947565</td>\n",
       "      <td>0.370148</td>\n",
       "      <td>-1.015505</td>\n",
       "      <td>0.468826</td>\n",
       "      <td>0.368249</td>\n",
       "      <td>0.807739</td>\n",
       "      <td>0.148451</td>\n",
       "      <td>-0.888079</td>\n",
       "      <td>2.285689</td>\n",
       "      <td>0.169476</td>\n",
       "    </tr>\n",
       "    <tr>\n",
       "      <th>2</th>\n",
       "      <td>-1.454874</td>\n",
       "      <td>1.035294</td>\n",
       "      <td>-1.225005</td>\n",
       "      <td>-0.021692</td>\n",
       "      <td>0.984732</td>\n",
       "      <td>-0.469856</td>\n",
       "      <td>0.421969</td>\n",
       "      <td>0.418665</td>\n",
       "      <td>0.103721</td>\n",
       "      <td>-0.706935</td>\n",
       "      <td>-0.274392</td>\n",
       "      <td>0.169476</td>\n",
       "    </tr>\n",
       "    <tr>\n",
       "      <th>3</th>\n",
       "      <td>0.602451</td>\n",
       "      <td>0.876011</td>\n",
       "      <td>0.717076</td>\n",
       "      <td>0.737771</td>\n",
       "      <td>0.984732</td>\n",
       "      <td>-0.144746</td>\n",
       "      <td>-0.549475</td>\n",
       "      <td>-0.159958</td>\n",
       "      <td>0.076883</td>\n",
       "      <td>-0.617801</td>\n",
       "      <td>0.539082</td>\n",
       "      <td>0.169476</td>\n",
       "    </tr>\n",
       "    <tr>\n",
       "      <th>4</th>\n",
       "      <td>0.296245</td>\n",
       "      <td>-0.449229</td>\n",
       "      <td>-1.502445</td>\n",
       "      <td>0.195672</td>\n",
       "      <td>-1.015505</td>\n",
       "      <td>-0.654283</td>\n",
       "      <td>0.301098</td>\n",
       "      <td>-0.110076</td>\n",
       "      <td>0.993852</td>\n",
       "      <td>-0.836768</td>\n",
       "      <td>0.383677</td>\n",
       "      <td>0.169476</td>\n",
       "    </tr>\n",
       "  </tbody>\n",
       "</table>\n",
       "</div>"
      ],
      "text/plain": [
       "         0         1         2         3         4         5         6   \\\n",
       "0  0.899089  0.226134 -1.502445 -1.821881  0.984732 -0.465128  0.484643   \n",
       "1  0.248400  0.302590 -0.947565  0.370148 -1.015505  0.468826  0.368249   \n",
       "2 -1.454874  1.035294 -1.225005 -0.021692  0.984732 -0.469856  0.421969   \n",
       "3  0.602451  0.876011  0.717076  0.737771  0.984732 -0.144746 -0.549475   \n",
       "4  0.296245 -0.449229 -1.502445  0.195672 -1.015505 -0.654283  0.301098   \n",
       "\n",
       "         7         8         9         10        11  \n",
       "0 -0.379435 -1.041371  1.513713 -0.639812  0.169476  \n",
       "1  0.807739  0.148451 -0.888079  2.285689  0.169476  \n",
       "2  0.418665  0.103721 -0.706935 -0.274392  0.169476  \n",
       "3 -0.159958  0.076883 -0.617801  0.539082  0.169476  \n",
       "4 -0.110076  0.993852 -0.836768  0.383677  0.169476  "
      ]
     },
     "execution_count": 6,
     "metadata": {},
     "output_type": "execute_result"
    }
   ],
   "source": [
    "X_prep = StandardScaler().fit_transform(X)\n",
    "\n",
    "pd.DataFrame(X_prep).head()\n"
   ]
  },
  {
   "cell_type": "code",
   "execution_count": 7,
   "id": "81f58bd3",
   "metadata": {},
   "outputs": [],
   "source": [
    "# fix back the columns\n",
    "\n",
    "#columns = ['danceability', 'energy', 'key', 'loudness', 'mode', 'speechiness',\n",
    " #      'instrumentalness', 'liveness', 'valence', 'tempo', 'duration_ms',\n",
    "  #     'time_signature']\n",
    "\n",
    "#X_prep.columns = columns\n"
   ]
  },
  {
   "cell_type": "markdown",
   "id": "788d49fa",
   "metadata": {},
   "source": [
    "## Clustering"
   ]
  },
  {
   "cell_type": "code",
   "execution_count": 8,
   "id": "2c177257",
   "metadata": {},
   "outputs": [
    {
     "data": {
      "text/plain": [
       "KMeans(n_clusters=3, random_state=42)"
      ]
     },
     "execution_count": 8,
     "metadata": {},
     "output_type": "execute_result"
    }
   ],
   "source": [
    "\n",
    "\n",
    "kmeans = KMeans(n_clusters=3, random_state=42)\n",
    "kmeans.fit(X_prep)"
   ]
  },
  {
   "cell_type": "code",
   "execution_count": 9,
   "id": "f049c9dd",
   "metadata": {},
   "outputs": [
    {
     "data": {
      "text/plain": [
       "array([0, 2, 2, 2, 2, 0, 0, 0, 2, 0, 2, 2, 2, 2, 2, 0, 2, 0, 0, 2, 0, 1,\n",
       "       0, 0, 2, 2, 1, 0, 2, 2, 0, 2, 0, 2, 2, 0, 0, 2, 0, 0, 0, 0, 2, 2,\n",
       "       2, 2, 2, 2, 2, 1, 2, 2, 2, 0, 2, 2, 1, 2, 0, 2, 0, 2, 0, 0, 0, 0,\n",
       "       2, 0, 2, 0, 2, 2, 0, 0, 0, 1, 0, 2, 0, 0, 1, 0, 0, 2, 0, 0, 0, 2,\n",
       "       2, 2, 2, 0, 0, 2, 0, 2, 2, 1, 2, 1, 0, 0, 2, 2, 2, 0, 2, 0, 0, 2,\n",
       "       2, 0, 0, 0, 2, 2, 0, 2, 0, 2, 2, 0, 2, 2, 2, 0, 0, 0, 2, 2, 2, 0,\n",
       "       0, 2, 2, 2, 2, 0, 2, 0, 2, 2, 0, 2, 2, 2, 0, 2, 2, 2, 0, 0, 0, 2,\n",
       "       0, 0, 0, 2, 2, 0, 2, 0, 0, 2, 2, 0, 2, 0, 0, 2, 0, 2, 2, 0, 2, 0,\n",
       "       2, 0, 0, 0, 2, 0, 0, 2, 0, 2, 2, 0, 0, 2, 2, 2, 2, 2, 2],\n",
       "      dtype=int32)"
      ]
     },
     "execution_count": 9,
     "metadata": {},
     "output_type": "execute_result"
    }
   ],
   "source": [
    "clusters = kmeans.predict(X_prep)\n",
    "clusters"
   ]
  },
  {
   "cell_type": "code",
   "execution_count": 10,
   "id": "923eb671",
   "metadata": {},
   "outputs": [
    {
     "data": {
      "text/plain": [
       "0     86\n",
       "1      8\n",
       "2    101\n",
       "dtype: int64"
      ]
     },
     "execution_count": 10,
     "metadata": {},
     "output_type": "execute_result"
    }
   ],
   "source": [
    "pd.Series(clusters).value_counts().sort_index()"
   ]
  },
  {
   "cell_type": "code",
   "execution_count": 11,
   "id": "13f5e4d2",
   "metadata": {
    "scrolled": true
   },
   "outputs": [
    {
     "data": {
      "text/plain": [
       "1916.0276350019412"
      ]
     },
     "execution_count": 11,
     "metadata": {},
     "output_type": "execute_result"
    }
   ],
   "source": [
    "kmeans.inertia_"
   ]
  },
  {
   "cell_type": "code",
   "execution_count": 12,
   "id": "48b04779",
   "metadata": {},
   "outputs": [
    {
     "name": "stdout",
     "output_type": "stream",
     "text": [
      "Initialization complete\n",
      "Iteration 0, inertia 2618.2394626830705\n",
      "Iteration 1, inertia 2075.7893027804566\n",
      "Iteration 2, inertia 2033.010453386346\n",
      "Iteration 3, inertia 2006.7855650172928\n",
      "Iteration 4, inertia 1996.660293961078\n",
      "Iteration 5, inertia 1992.20143019706\n",
      "Iteration 6, inertia 1987.5596371299487\n",
      "Iteration 7, inertia 1985.1499195795905\n",
      "Iteration 8, inertia 1984.278664722231\n",
      "Iteration 9, inertia 1982.1948664622494\n",
      "Iteration 10, inertia 1977.3550961031312\n",
      "Iteration 11, inertia 1975.2561529029622\n",
      "Iteration 12, inertia 1974.5815128457832\n",
      "Iteration 13, inertia 1974.419195195042\n",
      "Converged at iteration 13: strict convergence.\n"
     ]
    },
    {
     "data": {
      "text/plain": [
       "1974.419195195042"
      ]
     },
     "execution_count": 12,
     "metadata": {},
     "output_type": "execute_result"
    }
   ],
   "source": [
    "kmeans = KMeans(n_clusters=3, random_state=1234, verbose=1, n_init=1)\n",
    "kmeans.fit(X_prep)\n",
    "kmeans.inertia_"
   ]
  },
  {
   "cell_type": "markdown",
   "id": "687289a8",
   "metadata": {},
   "source": [
    "## Now choosing the BEST K :D"
   ]
  },
  {
   "cell_type": "markdown",
   "id": "3f476025",
   "metadata": {},
   "source": [
    "### Inertia"
   ]
  },
  {
   "cell_type": "code",
   "execution_count": 13,
   "id": "76ebdf54",
   "metadata": {
    "scrolled": true
   },
   "outputs": [
    {
     "data": {
      "image/png": "[encoded data removed]",
      "text/plain": [
       "<Figure size 1152x576 with 1 Axes>"
      ]
     },
     "metadata": {
      "needs_background": "light"
     },
     "output_type": "display_data"
    }
   ],
   "source": [
    "K = range(1, 20,2)\n",
    "\n",
    "inertia = []\n",
    "\n",
    "for k in K:\n",
    "    kmeans = KMeans(n_clusters=k, random_state=1234)\n",
    "    kmeans.fit(X_prep)\n",
    "    inertia.append(kmeans.inertia_)\n",
    "    \n",
    "plt.figure(figsize=(16,8))\n",
    "plt.plot(K, inertia, 'bx-')\n",
    "plt.xlabel('k')\n",
    "plt.ylabel('inertia')\n",
    "plt.xticks(np.arange(min(K), max(K)+1, 1.0))\n",
    "plt.show()\n",
    "    "
   ]
  },
  {
   "cell_type": "markdown",
   "id": "abd671fd",
   "metadata": {},
   "source": [
    "## Take K = 11 and apply to the model again"
   ]
  },
  {
   "cell_type": "code",
   "execution_count": 14,
   "id": "636f4f07",
   "metadata": {},
   "outputs": [
    {
     "data": {
      "text/plain": [
       "KMeans(n_clusters=11, random_state=42)"
      ]
     },
     "execution_count": 14,
     "metadata": {},
     "output_type": "execute_result"
    }
   ],
   "source": [
    "\n",
    "kmeans = KMeans(n_clusters=11, random_state=42)\n",
    "kmeans.fit(X_prep)"
   ]
  },
  {
   "cell_type": "code",
   "execution_count": 15,
   "id": "0f0cdd77",
   "metadata": {},
   "outputs": [
    {
     "data": {
      "text/plain": [
       "array([ 3,  0,  6,  6,  4,  5, 10,  7,  5,  9,  6,  6,  6,  4,  6,  0,  4,\n",
       "        1,  8,  8,  1,  2,  9,  7,  4,  5,  2,  5,  9,  3,  1,  4, 10,  6,\n",
       "        8,  8,  0,  9,  1,  3,  3,  9,  9,  6,  4,  6,  4,  6,  6,  2,  8,\n",
       "        6,  9,  8,  6,  5,  2,  6, 10,  4,  9,  4, 10, 10,  9,  3,  4,  1,\n",
       "        4,  0,  4,  6,  1, 10, 10,  2,  9,  5,  3,  1,  2,  3,  0,  4,  0,\n",
       "        1, 10,  9,  4,  4,  6,  1,  8,  4,  8,  1,  3,  2,  4,  2, 10,  9,\n",
       "        6,  4,  3, 10,  5, 10,  9,  9,  3,  1,  3,  0,  4,  8,  5,  6,  9,\n",
       "        3,  4,  0,  1,  0,  6,  1,  4,  1,  9,  8,  4, 10,  0,  8,  4,  6,\n",
       "        1,  0,  4,  1,  3,  5,  0,  4,  6,  6,  0,  6,  3,  6,  3,  7,  9,\n",
       "        4, 10,  8, 10,  4,  5,  8,  6, 10,  1,  4,  3,  8,  3,  8,  1,  6,\n",
       "        9,  4,  3,  0,  4,  1,  4,  1, 10,  1,  6,  1,  1,  5,  1,  3,  6,\n",
       "       10,  1,  9,  3,  6,  6,  6,  6], dtype=int32)"
      ]
     },
     "execution_count": 15,
     "metadata": {},
     "output_type": "execute_result"
    }
   ],
   "source": [
    "clusters = kmeans.predict(X_prep)\n",
    "clusters"
   ]
  },
  {
   "cell_type": "code",
   "execution_count": 16,
   "id": "958e1406",
   "metadata": {},
   "outputs": [
    {
     "data": {
      "text/plain": [
       "0     14\n",
       "1     25\n",
       "2      8\n",
       "3     20\n",
       "4     31\n",
       "5     11\n",
       "6     32\n",
       "7      3\n",
       "8     15\n",
       "9     19\n",
       "10    17\n",
       "dtype: int64"
      ]
     },
     "execution_count": 16,
     "metadata": {},
     "output_type": "execute_result"
    }
   ],
   "source": [
    "pd.Series(clusters).value_counts().sort_index()"
   ]
  },
  {
   "cell_type": "code",
   "execution_count": 17,
   "id": "84ed93db",
   "metadata": {},
   "outputs": [
    {
     "data": {
      "text/plain": [
       "1280.397474528488"
      ]
     },
     "execution_count": 17,
     "metadata": {},
     "output_type": "execute_result"
    }
   ],
   "source": [
    "kmeans.inertia_"
   ]
  },
  {
   "cell_type": "markdown",
   "id": "36f344a9",
   "metadata": {},
   "source": [
    "## Silhouette Score"
   ]
  },
  {
   "cell_type": "code",
   "execution_count": 18,
   "id": "acd5f4b4",
   "metadata": {
    "scrolled": true
   },
   "outputs": [
    {
     "data": {
      "image/png": "[encoded data removed]",
      "text/plain": [
       "<Figure size 1152x576 with 1 Axes>"
      ]
     },
     "metadata": {
      "needs_background": "light"
     },
     "output_type": "display_data"
    }
   ],
   "source": [
    "from sklearn.metrics import silhouette_score\n",
    "K = range(2, 20)\n",
    "\n",
    "silhouette = []\n",
    "\n",
    "for k in K:\n",
    "    kmeans = KMeans(n_clusters=k, random_state=42)\n",
    "    kmeans.fit(X_prep)\n",
    "    silhouette.append(silhouette_score(X_prep, kmeans.predict(X_prep)))\n",
    "\n",
    "\n",
    "plt.figure(figsize=(16,8))\n",
    "plt.plot(K, silhouette, 'bx-')\n",
    "plt.xlabel('k')\n",
    "plt.ylabel('silhouette score')\n",
    "plt.xticks(np.arange(min(K), max(K)+1, 1.0))\n",
    "plt.show()"
   ]
  },
  {
   "cell_type": "code",
   "execution_count": null,
   "id": "2fb8b0ab",
   "metadata": {},
   "outputs": [],
   "source": []
  },
  {
   "cell_type": "markdown",
   "id": "d849e943",
   "metadata": {},
   "source": []
  },
  {
   "cell_type": "markdown",
   "id": "84ae3382",
   "metadata": {},
   "source": [
    "## Scrapping 100 top songs from Billboard "
   ]
  },
  {
   "cell_type": "code",
   "execution_count": 19,
   "id": "e9c3de7b",
   "metadata": {},
   "outputs": [],
   "source": [
    "from bs4 import BeautifulSoup\n",
    "import requests"
   ]
  },
  {
   "cell_type": "code",
   "execution_count": 31,
   "id": "4fb895c2",
   "metadata": {
    "code_folding": []
   },
   "outputs": [],
   "source": [
    "def billboard_top_100(url):\n",
    "    billboard = requests.get(url)\n",
    "\n",
    "    soup = BeautifulSoup(billboard.content, 'html.parser')\n",
    "\n",
    "    # song titles\n",
    "    songs = soup.find_all(\"span\", class_ =\"chart-element__information__song text--truncate color--primary\")\n",
    "\n",
    "    # artists\n",
    "    artists = soup.find_all(\"span\", class_ =\"chart-element__information__artist text--truncate color--secondary\")\n",
    "\n",
    "    # last week\n",
    "    last_week_ranks = soup.find_all(\"span\", class_= \"chart-element__meta text--center color--secondary text--last\")\n",
    "\n",
    "    # peak rank\n",
    "    peak_ranks = soup.find_all(\"span\", class_= \"chart-element__meta text--center color--secondary text--peak\")\n",
    "\n",
    "    # weeks on chart\n",
    "    weeks_on_chart = soup.find_all(\"span\", class_= \"chart-element__meta text--center color--secondary text--week\")\n",
    "\n",
    "    for i in [songs, artists, last_week_ranks, peak_ranks, weeks_on_chart]:\n",
    "        for j in range(len(i)):\n",
    "            i[j] = i[j].getText()\n",
    "        \n",
    "    billboard = pd.DataFrame(\n",
    "    {\"songs\": songs,\n",
    "    \"artists\": artists,\n",
    "    \"last_week_rank\": last_week_ranks,\n",
    "    \"peak_rank\" : peak_ranks,\n",
    "    \"weeks_on_chart\": weeks_on_chart}\n",
    "    )\n",
    "\n",
    "    return billboard\n",
    "\n"
   ]
  },
  {
   "cell_type": "code",
   "execution_count": 34,
   "id": "2bcb83fc",
   "metadata": {},
   "outputs": [
    {
     "data": {
      "text/html": [
       "<div>\n",
       "<style scoped>\n",
       "    .dataframe tbody tr th:only-of-type {\n",
       "        vertical-align: middle;\n",
       "    }\n",
       "\n",
       "    .dataframe tbody tr th {\n",
       "        vertical-align: top;\n",
       "    }\n",
       "\n",
       "    .dataframe thead th {\n",
       "        text-align: right;\n",
       "    }\n",
       "</style>\n",
       "<table border=\"1\" class=\"dataframe\">\n",
       "  <thead>\n",
       "    <tr style=\"text-align: right;\">\n",
       "      <th></th>\n",
       "      <th>songs</th>\n",
       "      <th>artists</th>\n",
       "      <th>last_week_rank</th>\n",
       "      <th>peak_rank</th>\n",
       "      <th>weeks_on_chart</th>\n",
       "    </tr>\n",
       "  </thead>\n",
       "  <tbody>\n",
       "    <tr>\n",
       "      <th>0</th>\n",
       "      <td>Stay</td>\n",
       "      <td>The Kid LAROI &amp; Justin Bieber</td>\n",
       "      <td>2</td>\n",
       "      <td>1</td>\n",
       "      <td>13</td>\n",
       "    </tr>\n",
       "    <tr>\n",
       "      <th>1</th>\n",
       "      <td>Industry Baby</td>\n",
       "      <td>Lil Nas X &amp; Jack Harlow</td>\n",
       "      <td>3</td>\n",
       "      <td>2</td>\n",
       "      <td>11</td>\n",
       "    </tr>\n",
       "    <tr>\n",
       "      <th>2</th>\n",
       "      <td>Fancy Like</td>\n",
       "      <td>Walker Hayes</td>\n",
       "      <td>5</td>\n",
       "      <td>3</td>\n",
       "      <td>16</td>\n",
       "    </tr>\n",
       "    <tr>\n",
       "      <th>3</th>\n",
       "      <td>Way 2 Sexy</td>\n",
       "      <td>Drake Featuring Future &amp; Young Thug</td>\n",
       "      <td>4</td>\n",
       "      <td>1</td>\n",
       "      <td>5</td>\n",
       "    </tr>\n",
       "    <tr>\n",
       "      <th>4</th>\n",
       "      <td>Bad Habits</td>\n",
       "      <td>Ed Sheeran</td>\n",
       "      <td>6</td>\n",
       "      <td>2</td>\n",
       "      <td>15</td>\n",
       "    </tr>\n",
       "    <tr>\n",
       "      <th>...</th>\n",
       "      <td>...</td>\n",
       "      <td>...</td>\n",
       "      <td>...</td>\n",
       "      <td>...</td>\n",
       "      <td>...</td>\n",
       "    </tr>\n",
       "    <tr>\n",
       "      <th>95</th>\n",
       "      <td>Esta Danada</td>\n",
       "      <td>Ivan Cornejo</td>\n",
       "      <td>-</td>\n",
       "      <td>96</td>\n",
       "      <td>1</td>\n",
       "    </tr>\n",
       "    <tr>\n",
       "      <th>96</th>\n",
       "      <td>Whiskey And Rain</td>\n",
       "      <td>Michael Ray</td>\n",
       "      <td>-</td>\n",
       "      <td>97</td>\n",
       "      <td>1</td>\n",
       "    </tr>\n",
       "    <tr>\n",
       "      <th>97</th>\n",
       "      <td>TSU</td>\n",
       "      <td>Drake</td>\n",
       "      <td>84</td>\n",
       "      <td>9</td>\n",
       "      <td>5</td>\n",
       "    </tr>\n",
       "    <tr>\n",
       "      <th>98</th>\n",
       "      <td>Love All</td>\n",
       "      <td>Drake Featuring JAY-Z</td>\n",
       "      <td>87</td>\n",
       "      <td>10</td>\n",
       "      <td>5</td>\n",
       "    </tr>\n",
       "    <tr>\n",
       "      <th>99</th>\n",
       "      <td>No Where</td>\n",
       "      <td>YoungBoy Never Broke Again</td>\n",
       "      <td>40</td>\n",
       "      <td>40</td>\n",
       "      <td>2</td>\n",
       "    </tr>\n",
       "  </tbody>\n",
       "</table>\n",
       "<p>100 rows × 5 columns</p>\n",
       "</div>"
      ],
      "text/plain": [
       "               songs                              artists last_week_rank  \\\n",
       "0               Stay        The Kid LAROI & Justin Bieber              2   \n",
       "1      Industry Baby              Lil Nas X & Jack Harlow              3   \n",
       "2         Fancy Like                         Walker Hayes              5   \n",
       "3         Way 2 Sexy  Drake Featuring Future & Young Thug              4   \n",
       "4         Bad Habits                           Ed Sheeran              6   \n",
       "..               ...                                  ...            ...   \n",
       "95       Esta Danada                         Ivan Cornejo              -   \n",
       "96  Whiskey And Rain                          Michael Ray              -   \n",
       "97               TSU                                Drake             84   \n",
       "98          Love All                Drake Featuring JAY-Z             87   \n",
       "99          No Where           YoungBoy Never Broke Again             40   \n",
       "\n",
       "   peak_rank weeks_on_chart  \n",
       "0          1             13  \n",
       "1          2             11  \n",
       "2          3             16  \n",
       "3          1              5  \n",
       "4          2             15  \n",
       "..       ...            ...  \n",
       "95        96              1  \n",
       "96        97              1  \n",
       "97         9              5  \n",
       "98        10              5  \n",
       "99        40              2  \n",
       "\n",
       "[100 rows x 5 columns]"
      ]
     },
     "execution_count": 34,
     "metadata": {},
     "output_type": "execute_result"
    }
   ],
   "source": [
    "billboard_top_100(\"https://www.billboard.com/charts/hot-100\")\n"
   ]
  },
  {
   "cell_type": "markdown",
   "id": "22679f5e",
   "metadata": {},
   "source": [
    "## Check whether or not the song is in the Billboard Hot 200.\n"
   ]
  },
  {
   "cell_type": "code",
   "execution_count": 48,
   "id": "50ae993c",
   "metadata": {},
   "outputs": [],
   "source": [
    "def hot_recommender():\n",
    "    # import scraping function & random int generator\n",
    "    \n",
    "    from random import randint\n",
    "    \n",
    "    # scrape billboard hot 100\n",
    "    billboard = billboard_top_100(\"https://www.billboard.com/charts/hot-100\")\n",
    "    \n",
    "    # ask for song\n",
    "    song = input(\"What song do you like? \")\n",
    "    \n",
    "    # check if song is on billboard hot 100\n",
    "    song_row = billboard[billboard[\"songs\"].str.contains(song)]\n",
    "    if len(song_row) == 0:\n",
    "        return \"Your song is not hot\"\n",
    "    else:\n",
    "        check_song = input(\"Did you mean \" + song_row[\"songs\"].values[0] + \" by \" + song_row[\"artists\"].values[0] + \"? \")    \n",
    "    \n",
    "        # if song is in billboard hot 100, recommend another random hot song\n",
    "        if check_song == \"yes\" or \"Yes\":\n",
    "            print(\"That's a hot song.\")\n",
    "            random_song = randint(0, len(billboard)-1)\n",
    "            return(\"You might also like \" + billboard[\"songs\"][random_song] + \" by \" + billboard[\"artists\"][random_song])\n",
    "        else:\n",
    "            return(\"Ah, not the one I had in mind.\")"
   ]
  },
  {
   "cell_type": "code",
   "execution_count": 49,
   "id": "abd6f754",
   "metadata": {},
   "outputs": [
    {
     "name": "stdout",
     "output_type": "stream",
     "text": [
      "What song do you like? Stay\n",
      "Did you mean Stay by The Kid LAROI & Justin Bieber? Yes\n",
      "That's a hot song.\n"
     ]
    },
    {
     "data": {
      "text/plain": [
       "'You might also like You Should Probably Leave by Chris Stapleton'"
      ]
     },
     "execution_count": 49,
     "metadata": {},
     "output_type": "execute_result"
    }
   ],
   "source": [
    "hot_recommender()"
   ]
  },
  {
   "cell_type": "markdown",
   "id": "a079a266",
   "metadata": {},
   "source": [
    "## Collect the audio features from the Spotify API.\n"
   ]
  },
  {
   "cell_type": "markdown",
   "id": "95a80648",
   "metadata": {},
   "source": [
    "## After that, you want to send the Spotify audio features of the submitted song to the clustering model, which should return a cluster number."
   ]
  },
  {
   "cell_type": "code",
   "execution_count": null,
   "id": "50048be7",
   "metadata": {},
   "outputs": [],
   "source": []
  },
  {
   "cell_type": "markdown",
   "id": "dd86331c",
   "metadata": {},
   "source": [
    "## questions to TAs"
   ]
  },
  {
   "cell_type": "markdown",
   "id": "8408910f",
   "metadata": {},
   "source": [
    "8. --> is the result of Silhouette looks up and down because of the small number of data I have in my dataset??\n",
    "\n",
    "12. and 13. --> I am not sure if we touched this in class. Can we get the solutions uploaded for this? thanks in advance :-D\n"
   ]
  },
  {
   "cell_type": "code",
   "execution_count": null,
   "id": "40464150",
   "metadata": {},
   "outputs": [],
   "source": []
  },
  {
   "cell_type": "code",
   "execution_count": null,
   "id": "c3cadba3",
   "metadata": {},
   "outputs": [],
   "source": []
  }
 ],
 "metadata": {
  "kernelspec": {
   "display_name": "Python 3",
   "language": "python",
   "name": "python3"
  },
  "language_info": {
   "codemirror_mode": {
    "name": "ipython",
    "version": 3
   },
   "file_extension": ".py",
   "mimetype": "text/x-python",
   "name": "python",
   "nbconvert_exporter": "python",
   "pygments_lexer": "ipython3",
   "version": "3.8.8"
  },
  "toc": {
   "base_numbering": 1,
   "nav_menu": {},
   "number_sections": true,
   "sideBar": true,
   "skip_h1_title": false,
   "title_cell": "Table of Contents",
   "title_sidebar": "Contents",
   "toc_cell": false,
   "toc_position": {},
   "toc_section_display": true,
   "toc_window_display": true
  }
 },
 "nbformat": 4,
 "nbformat_minor": 5
}
