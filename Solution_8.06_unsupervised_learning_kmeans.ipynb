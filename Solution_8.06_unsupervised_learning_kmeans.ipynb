{
 "cells": [
  {
   "cell_type": "markdown",
   "metadata": {},
   "source": [
    "#### Instructions\n",
    "\n",
    "It's the moment to perform clustering on the songs you collected. Remember that the ultimate goal of this little project is to improve the recommendations of artists. Clustering the songs will allow the recommendation system to limit the scope of the recommendations to only songs that belong to the same cluster - songs with similar audio features.\n",
    "\n",
    "The experiments you did with the Spotify API and the Billboard web scraping will allow you to create a pipeline such that when the user enters a song, you:\n",
    "\n",
    "1) Check whether or not the song is in the Billboard Hot 200.\n",
    "\n",
    "2) Collect the audio features from the Spotify API.\n",
    "\n",
    "3) After that, you want to send the Spotify audio features of the submitted song to the clustering model, which should return a cluster number.\n",
    "\n",
    "4) We want to have as many songs as possible to create the clustering model, so we will add the songs you collected to a bigger dataset available on Kaggle containing 160 thousand songs.\n",
    "\n",
    "-- Think 4) will be the next lab? Is this right or is it part of this lab? "
   ]
  },
  {
   "cell_type": "markdown",
   "metadata": {},
   "source": [
    "### 1) Billboard Hot 200 "
   ]
  },
  {
   "cell_type": "code",
   "execution_count": 60,
   "metadata": {},
   "outputs": [],
   "source": [
    "from bs4 import BeautifulSoup\n",
    "import requests\n",
    "import pandas as pd\n",
    "import numpy as np"
   ]
  },
  {
   "cell_type": "code",
   "execution_count": 2,
   "metadata": {},
   "outputs": [],
   "source": [
    "url = \"https://www.billboard.com/charts/billboard-global-200\""
   ]
  },
  {
   "cell_type": "code",
   "execution_count": 3,
   "metadata": {},
   "outputs": [
    {
     "name": "stdout",
     "output_type": "stream",
     "text": [
      "Billboard: 200\n"
     ]
    }
   ],
   "source": [
    "billboard = requests.get(url)\n",
    "print(\"Billboard:\", billboard.status_code)\n",
    "\n",
    "# 200 status code means OK!"
   ]
  },
  {
   "cell_type": "code",
   "execution_count": 4,
   "metadata": {},
   "outputs": [],
   "source": [
    "soup = BeautifulSoup(billboard.content, 'html.parser')"
   ]
  },
  {
   "cell_type": "code",
   "execution_count": 5,
   "metadata": {},
   "outputs": [],
   "source": [
    "# song titles\n",
    "song_titles = soup.find_all(\"span\", class_=\"chart-element__information__song text--truncate color--primary\")\n",
    "\n",
    "# artists\n",
    "song_artists = soup.find_all(\"span\", class_=\"chart-element__information__artist text--truncate color--secondary\")\n",
    "\n",
    "# last week\n",
    "song_last_week = soup.find_all(\"span\", class_= \"chart-element__meta text--center color--secondary text--last\")\n",
    "\n",
    "# peak rank\n",
    "song_peak = soup.find_all(\"span\", class_= \"chart-element__meta text--center color--secondary text--peak\")\n",
    "\n",
    "# weeks on chart\n",
    "song_total_weeks = soup.find_all(\"span\", class_= \"chart-element__meta text--center color--secondary text--week\")"
   ]
  },
  {
   "cell_type": "code",
   "execution_count": 10,
   "metadata": {},
   "outputs": [],
   "source": [
    "def scraper_text(html, text_list): \n",
    "    for i in html:\n",
    "        text_list.append(i.get_text())\n",
    "    print(len(text_list))"
   ]
  },
  {
   "cell_type": "code",
   "execution_count": 11,
   "metadata": {},
   "outputs": [
    {
     "name": "stdout",
     "output_type": "stream",
     "text": [
      "200\n"
     ]
    }
   ],
   "source": [
    "song_titles_text = []\n",
    "scraper_text(song_titles, song_titles_text)"
   ]
  },
  {
   "cell_type": "code",
   "execution_count": 12,
   "metadata": {},
   "outputs": [
    {
     "name": "stdout",
     "output_type": "stream",
     "text": [
      "200\n"
     ]
    }
   ],
   "source": [
    "song_artists_text = []\n",
    "scraper_text(song_artists, song_artists_text)"
   ]
  },
  {
   "cell_type": "code",
   "execution_count": 13,
   "metadata": {},
   "outputs": [
    {
     "name": "stdout",
     "output_type": "stream",
     "text": [
      "200\n"
     ]
    }
   ],
   "source": [
    "song_last_week_text = []\n",
    "scraper_text(song_last_week, song_last_week_text)"
   ]
  },
  {
   "cell_type": "code",
   "execution_count": 14,
   "metadata": {},
   "outputs": [
    {
     "name": "stdout",
     "output_type": "stream",
     "text": [
      "200\n"
     ]
    }
   ],
   "source": [
    "song_peak_text = []\n",
    "scraper_text(song_peak, song_peak_text)"
   ]
  },
  {
   "cell_type": "code",
   "execution_count": 15,
   "metadata": {},
   "outputs": [
    {
     "name": "stdout",
     "output_type": "stream",
     "text": [
      "200\n"
     ]
    }
   ],
   "source": [
    "song_total_weeks_text = []\n",
    "scraper_text(song_total_weeks, song_total_weeks_text)"
   ]
  },
  {
   "cell_type": "code",
   "execution_count": 16,
   "metadata": {},
   "outputs": [],
   "source": [
    "url = \"https://www.billboard.com/charts/billboard-global-200\"\n",
    "first_attribute = \"span\"\n",
    "list_class = [\"chart-element__information__song text--truncate color--primary\", ]\n",
    "\n",
    "def function_web_scraping(url, list_list_names, first_attribute):\n",
    "    re = requests.get(url)\n",
    "    print(\"Status Code:\", re.status_code)\n",
    "    soup = BeautifulSoup(re.content, 'html.parser')\n",
    "    for i in list_list_names: \n",
    "        i = soup.find_all(x, )\n",
    "    song_titles = soup.find_all(first_attribute, class_=list_class)"
   ]
  },
  {
   "cell_type": "code",
   "execution_count": 17,
   "metadata": {},
   "outputs": [],
   "source": [
    "top_200 = pd.DataFrame(\n",
    "    {\"title\": song_titles_text,\n",
    "     \"artist\": song_artists_text,\n",
    "     \"last_week_rank\": song_last_week_text,\n",
    "     \"peak_position\": song_peak_text,\n",
    "     \"weeks_on_chart\": song_total_weeks_text}\n",
    ")"
   ]
  },
  {
   "cell_type": "code",
   "execution_count": 18,
   "metadata": {},
   "outputs": [
    {
     "data": {
      "text/html": [
       "<div>\n",
       "<style scoped>\n",
       "    .dataframe tbody tr th:only-of-type {\n",
       "        vertical-align: middle;\n",
       "    }\n",
       "\n",
       "    .dataframe tbody tr th {\n",
       "        vertical-align: top;\n",
       "    }\n",
       "\n",
       "    .dataframe thead th {\n",
       "        text-align: right;\n",
       "    }\n",
       "</style>\n",
       "<table border=\"1\" class=\"dataframe\">\n",
       "  <thead>\n",
       "    <tr style=\"text-align: right;\">\n",
       "      <th></th>\n",
       "      <th>title</th>\n",
       "      <th>artist</th>\n",
       "      <th>last_week_rank</th>\n",
       "      <th>peak_position</th>\n",
       "      <th>weeks_on_chart</th>\n",
       "    </tr>\n",
       "  </thead>\n",
       "  <tbody>\n",
       "    <tr>\n",
       "      <th>0</th>\n",
       "      <td>Stay</td>\n",
       "      <td>The Kid LAROI &amp; Justin Bieber</td>\n",
       "      <td>2</td>\n",
       "      <td>1</td>\n",
       "      <td>13</td>\n",
       "    </tr>\n",
       "    <tr>\n",
       "      <th>1</th>\n",
       "      <td>Love Nwantiti (Ah Ah Ah)</td>\n",
       "      <td>CKay</td>\n",
       "      <td>4</td>\n",
       "      <td>2</td>\n",
       "      <td>4</td>\n",
       "    </tr>\n",
       "    <tr>\n",
       "      <th>2</th>\n",
       "      <td>Industry Baby</td>\n",
       "      <td>Lil Nas X &amp; Jack Harlow</td>\n",
       "      <td>3</td>\n",
       "      <td>2</td>\n",
       "      <td>11</td>\n",
       "    </tr>\n",
       "    <tr>\n",
       "      <th>3</th>\n",
       "      <td>Bad Habits</td>\n",
       "      <td>Ed Sheeran</td>\n",
       "      <td>5</td>\n",
       "      <td>1</td>\n",
       "      <td>15</td>\n",
       "    </tr>\n",
       "    <tr>\n",
       "      <th>4</th>\n",
       "      <td>My Universe</td>\n",
       "      <td>Coldplay x BTS</td>\n",
       "      <td>1</td>\n",
       "      <td>1</td>\n",
       "      <td>2</td>\n",
       "    </tr>\n",
       "  </tbody>\n",
       "</table>\n",
       "</div>"
      ],
      "text/plain": [
       "                      title                         artist last_week_rank  \\\n",
       "0                      Stay  The Kid LAROI & Justin Bieber              2   \n",
       "1  Love Nwantiti (Ah Ah Ah)                           CKay              4   \n",
       "2             Industry Baby        Lil Nas X & Jack Harlow              3   \n",
       "3                Bad Habits                     Ed Sheeran              5   \n",
       "4               My Universe                 Coldplay x BTS              1   \n",
       "\n",
       "  peak_position weeks_on_chart  \n",
       "0             1             13  \n",
       "1             2              4  \n",
       "2             2             11  \n",
       "3             1             15  \n",
       "4             1              2  "
      ]
     },
     "execution_count": 18,
     "metadata": {},
     "output_type": "execute_result"
    }
   ],
   "source": [
    "top_200.head()"
   ]
  },
  {
   "cell_type": "code",
   "execution_count": 27,
   "metadata": {},
   "outputs": [],
   "source": [
    "def song_in_top200(): \n",
    "    song = input(\"What song do you want to check? \")\n",
    "    if song in song_titles_text: \n",
    "        print('Yes, song is in top 200')\n",
    "    else:    \n",
    "        print('Not a hit. Try an other song')"
   ]
  },
  {
   "cell_type": "code",
   "execution_count": 29,
   "metadata": {},
   "outputs": [
    {
     "name": "stdout",
     "output_type": "stream",
     "text": [
      "What song do you want to check? Bad Habits\n",
      "Yes, song is in top 200\n"
     ]
    }
   ],
   "source": [
    "song_in_top200()"
   ]
  },
  {
   "cell_type": "markdown",
   "metadata": {},
   "source": [
    "### 2) Spotify features"
   ]
  },
  {
   "cell_type": "markdown",
   "metadata": {},
   "source": [
    "Was already part of the lab before: "
   ]
  },
  {
   "cell_type": "code",
   "execution_count": 35,
   "metadata": {},
   "outputs": [
    {
     "data": {
      "text/html": [
       "<div>\n",
       "<style scoped>\n",
       "    .dataframe tbody tr th:only-of-type {\n",
       "        vertical-align: middle;\n",
       "    }\n",
       "\n",
       "    .dataframe tbody tr th {\n",
       "        vertical-align: top;\n",
       "    }\n",
       "\n",
       "    .dataframe thead th {\n",
       "        text-align: right;\n",
       "    }\n",
       "</style>\n",
       "<table border=\"1\" class=\"dataframe\">\n",
       "  <thead>\n",
       "    <tr style=\"text-align: right;\">\n",
       "      <th></th>\n",
       "      <th>danceability</th>\n",
       "      <th>energy</th>\n",
       "      <th>loudness</th>\n",
       "      <th>speechiness</th>\n",
       "      <th>acousticness</th>\n",
       "      <th>instrumentalness</th>\n",
       "      <th>liveness</th>\n",
       "      <th>valence</th>\n",
       "      <th>tempo</th>\n",
       "      <th>duration_ms</th>\n",
       "    </tr>\n",
       "  </thead>\n",
       "  <tbody>\n",
       "    <tr>\n",
       "      <th>0</th>\n",
       "      <td>0.865</td>\n",
       "      <td>0.694</td>\n",
       "      <td>-6.358</td>\n",
       "      <td>0.0431</td>\n",
       "      <td>0.25200</td>\n",
       "      <td>0.000842</td>\n",
       "      <td>0.1100</td>\n",
       "      <td>0.661</td>\n",
       "      <td>103.988</td>\n",
       "      <td>3.565633</td>\n",
       "    </tr>\n",
       "    <tr>\n",
       "      <th>1</th>\n",
       "      <td>0.449</td>\n",
       "      <td>0.541</td>\n",
       "      <td>-10.299</td>\n",
       "      <td>0.0417</td>\n",
       "      <td>0.08730</td>\n",
       "      <td>0.000000</td>\n",
       "      <td>0.1700</td>\n",
       "      <td>0.276</td>\n",
       "      <td>125.156</td>\n",
       "      <td>2.984933</td>\n",
       "    </tr>\n",
       "    <tr>\n",
       "      <th>2</th>\n",
       "      <td>0.512</td>\n",
       "      <td>0.550</td>\n",
       "      <td>-8.264</td>\n",
       "      <td>0.0272</td>\n",
       "      <td>0.00688</td>\n",
       "      <td>0.000839</td>\n",
       "      <td>0.1060</td>\n",
       "      <td>0.480</td>\n",
       "      <td>99.905</td>\n",
       "      <td>3.643217</td>\n",
       "    </tr>\n",
       "    <tr>\n",
       "      <th>3</th>\n",
       "      <td>0.830</td>\n",
       "      <td>0.631</td>\n",
       "      <td>-5.238</td>\n",
       "      <td>0.0313</td>\n",
       "      <td>0.00220</td>\n",
       "      <td>0.035900</td>\n",
       "      <td>0.0539</td>\n",
       "      <td>0.877</td>\n",
       "      <td>128.013</td>\n",
       "      <td>3.713117</td>\n",
       "    </tr>\n",
       "    <tr>\n",
       "      <th>4</th>\n",
       "      <td>0.403</td>\n",
       "      <td>0.732</td>\n",
       "      <td>-7.386</td>\n",
       "      <td>0.0452</td>\n",
       "      <td>0.74800</td>\n",
       "      <td>0.379000</td>\n",
       "      <td>0.1140</td>\n",
       "      <td>0.195</td>\n",
       "      <td>162.576</td>\n",
       "      <td>4.186217</td>\n",
       "    </tr>\n",
       "  </tbody>\n",
       "</table>\n",
       "</div>"
      ],
      "text/plain": [
       "   danceability  energy  loudness  speechiness  acousticness  \\\n",
       "0         0.865   0.694    -6.358       0.0431       0.25200   \n",
       "1         0.449   0.541   -10.299       0.0417       0.08730   \n",
       "2         0.512   0.550    -8.264       0.0272       0.00688   \n",
       "3         0.830   0.631    -5.238       0.0313       0.00220   \n",
       "4         0.403   0.732    -7.386       0.0452       0.74800   \n",
       "\n",
       "   instrumentalness  liveness  valence    tempo  duration_ms  \n",
       "0          0.000842    0.1100    0.661  103.988     3.565633  \n",
       "1          0.000000    0.1700    0.276  125.156     2.984933  \n",
       "2          0.000839    0.1060    0.480   99.905     3.643217  \n",
       "3          0.035900    0.0539    0.877  128.013     3.713117  \n",
       "4          0.379000    0.1140    0.195  162.576     4.186217  "
      ]
     },
     "execution_count": 35,
     "metadata": {},
     "output_type": "execute_result"
    }
   ],
   "source": [
    "feautres = pd.read_csv('music_feature.csv')\n",
    "feautres.head()"
   ]
  },
  {
   "cell_type": "code",
   "execution_count": 36,
   "metadata": {},
   "outputs": [
    {
     "data": {
      "text/plain": [
       "(96, 10)"
      ]
     },
     "execution_count": 36,
     "metadata": {},
     "output_type": "execute_result"
    }
   ],
   "source": [
    "feautres.shape"
   ]
  },
  {
   "cell_type": "code",
   "execution_count": 37,
   "metadata": {},
   "outputs": [
    {
     "data": {
      "text/html": [
       "<div>\n",
       "<style scoped>\n",
       "    .dataframe tbody tr th:only-of-type {\n",
       "        vertical-align: middle;\n",
       "    }\n",
       "\n",
       "    .dataframe tbody tr th {\n",
       "        vertical-align: top;\n",
       "    }\n",
       "\n",
       "    .dataframe thead th {\n",
       "        text-align: right;\n",
       "    }\n",
       "</style>\n",
       "<table border=\"1\" class=\"dataframe\">\n",
       "  <thead>\n",
       "    <tr style=\"text-align: right;\">\n",
       "      <th></th>\n",
       "      <th>id</th>\n",
       "      <th>album</th>\n",
       "      <th>name</th>\n",
       "      <th>artist</th>\n",
       "      <th>explicit</th>\n",
       "      <th>popularity</th>\n",
       "      <th>danceability</th>\n",
       "      <th>energy</th>\n",
       "      <th>key</th>\n",
       "      <th>loudness</th>\n",
       "      <th>...</th>\n",
       "      <th>instrumentalness</th>\n",
       "      <th>liveness</th>\n",
       "      <th>valence</th>\n",
       "      <th>tempo</th>\n",
       "      <th>type</th>\n",
       "      <th>uri</th>\n",
       "      <th>track_href</th>\n",
       "      <th>analysis_url</th>\n",
       "      <th>duration_ms</th>\n",
       "      <th>time_signature</th>\n",
       "    </tr>\n",
       "  </thead>\n",
       "  <tbody>\n",
       "    <tr>\n",
       "      <th>0</th>\n",
       "      <td>1YLUxdSfbsXYktpkp1aUvd</td>\n",
       "      <td>Pelicans We</td>\n",
       "      <td>The Fly</td>\n",
       "      <td>Cosmo Sheldrake</td>\n",
       "      <td>False</td>\n",
       "      <td>0</td>\n",
       "      <td>0.865</td>\n",
       "      <td>0.694</td>\n",
       "      <td>10</td>\n",
       "      <td>-6.358</td>\n",
       "      <td>...</td>\n",
       "      <td>0.000842</td>\n",
       "      <td>0.1100</td>\n",
       "      <td>0.661</td>\n",
       "      <td>103.988</td>\n",
       "      <td>audio_features</td>\n",
       "      <td>spotify:track:1YLUxdSfbsXYktpkp1aUvd</td>\n",
       "      <td>https://api.spotify.com/v1/tracks/1YLUxdSfbsXY...</td>\n",
       "      <td>https://api.spotify.com/v1/audio-analysis/1YLU...</td>\n",
       "      <td>3.565633</td>\n",
       "      <td>4</td>\n",
       "    </tr>\n",
       "    <tr>\n",
       "      <th>1</th>\n",
       "      <td>57HwKH3pHLeelTkckr94qf</td>\n",
       "      <td>Beware of the Maniacs</td>\n",
       "      <td>Horny Hippies</td>\n",
       "      <td>The Dodos</td>\n",
       "      <td>False</td>\n",
       "      <td>47</td>\n",
       "      <td>0.449</td>\n",
       "      <td>0.541</td>\n",
       "      <td>11</td>\n",
       "      <td>-10.299</td>\n",
       "      <td>...</td>\n",
       "      <td>0.000000</td>\n",
       "      <td>0.1700</td>\n",
       "      <td>0.276</td>\n",
       "      <td>125.156</td>\n",
       "      <td>audio_features</td>\n",
       "      <td>spotify:track:57HwKH3pHLeelTkckr94qf</td>\n",
       "      <td>https://api.spotify.com/v1/tracks/57HwKH3pHLee...</td>\n",
       "      <td>https://api.spotify.com/v1/audio-analysis/57Hw...</td>\n",
       "      <td>2.984933</td>\n",
       "      <td>4</td>\n",
       "    </tr>\n",
       "    <tr>\n",
       "      <th>2</th>\n",
       "      <td>4Dy9SM605DwtyqEHGUj1ZD</td>\n",
       "      <td>Husbands</td>\n",
       "      <td>You, Me, Cellphones</td>\n",
       "      <td>Husbands</td>\n",
       "      <td>False</td>\n",
       "      <td>0</td>\n",
       "      <td>0.512</td>\n",
       "      <td>0.550</td>\n",
       "      <td>0</td>\n",
       "      <td>-8.264</td>\n",
       "      <td>...</td>\n",
       "      <td>0.000839</td>\n",
       "      <td>0.1060</td>\n",
       "      <td>0.480</td>\n",
       "      <td>99.905</td>\n",
       "      <td>audio_features</td>\n",
       "      <td>spotify:track:4Dy9SM605DwtyqEHGUj1ZD</td>\n",
       "      <td>https://api.spotify.com/v1/tracks/4Dy9SM605Dwt...</td>\n",
       "      <td>https://api.spotify.com/v1/audio-analysis/4Dy9...</td>\n",
       "      <td>3.643217</td>\n",
       "      <td>4</td>\n",
       "    </tr>\n",
       "    <tr>\n",
       "      <th>3</th>\n",
       "      <td>290xSzR8Ee9fm82poMg4od</td>\n",
       "      <td>Quiet Ferocity</td>\n",
       "      <td>Used to Be in Love</td>\n",
       "      <td>The Jungle Giants</td>\n",
       "      <td>False</td>\n",
       "      <td>62</td>\n",
       "      <td>0.830</td>\n",
       "      <td>0.631</td>\n",
       "      <td>11</td>\n",
       "      <td>-5.238</td>\n",
       "      <td>...</td>\n",
       "      <td>0.035900</td>\n",
       "      <td>0.0539</td>\n",
       "      <td>0.877</td>\n",
       "      <td>128.013</td>\n",
       "      <td>audio_features</td>\n",
       "      <td>spotify:track:290xSzR8Ee9fm82poMg4od</td>\n",
       "      <td>https://api.spotify.com/v1/tracks/290xSzR8Ee9f...</td>\n",
       "      <td>https://api.spotify.com/v1/audio-analysis/290x...</td>\n",
       "      <td>3.713117</td>\n",
       "      <td>4</td>\n",
       "    </tr>\n",
       "    <tr>\n",
       "      <th>4</th>\n",
       "      <td>5ySZ6gVWw9XQf1Dxg4gj2M</td>\n",
       "      <td>Time Capsules II</td>\n",
       "      <td>Heart</td>\n",
       "      <td>Oberhofer</td>\n",
       "      <td>False</td>\n",
       "      <td>22</td>\n",
       "      <td>0.403</td>\n",
       "      <td>0.732</td>\n",
       "      <td>9</td>\n",
       "      <td>-7.386</td>\n",
       "      <td>...</td>\n",
       "      <td>0.379000</td>\n",
       "      <td>0.1140</td>\n",
       "      <td>0.195</td>\n",
       "      <td>162.576</td>\n",
       "      <td>audio_features</td>\n",
       "      <td>spotify:track:5ySZ6gVWw9XQf1Dxg4gj2M</td>\n",
       "      <td>https://api.spotify.com/v1/tracks/5ySZ6gVWw9XQ...</td>\n",
       "      <td>https://api.spotify.com/v1/audio-analysis/5ySZ...</td>\n",
       "      <td>4.186217</td>\n",
       "      <td>4</td>\n",
       "    </tr>\n",
       "  </tbody>\n",
       "</table>\n",
       "<p>5 rows × 23 columns</p>\n",
       "</div>"
      ],
      "text/plain": [
       "                       id                  album                 name  \\\n",
       "0  1YLUxdSfbsXYktpkp1aUvd            Pelicans We              The Fly   \n",
       "1  57HwKH3pHLeelTkckr94qf  Beware of the Maniacs        Horny Hippies   \n",
       "2  4Dy9SM605DwtyqEHGUj1ZD               Husbands  You, Me, Cellphones   \n",
       "3  290xSzR8Ee9fm82poMg4od         Quiet Ferocity   Used to Be in Love   \n",
       "4  5ySZ6gVWw9XQf1Dxg4gj2M       Time Capsules II                Heart   \n",
       "\n",
       "              artist  explicit  popularity  danceability  energy  key  \\\n",
       "0    Cosmo Sheldrake     False           0         0.865   0.694   10   \n",
       "1          The Dodos     False          47         0.449   0.541   11   \n",
       "2           Husbands     False           0         0.512   0.550    0   \n",
       "3  The Jungle Giants     False          62         0.830   0.631   11   \n",
       "4          Oberhofer     False          22         0.403   0.732    9   \n",
       "\n",
       "   loudness  ...  instrumentalness  liveness  valence    tempo  \\\n",
       "0    -6.358  ...          0.000842    0.1100    0.661  103.988   \n",
       "1   -10.299  ...          0.000000    0.1700    0.276  125.156   \n",
       "2    -8.264  ...          0.000839    0.1060    0.480   99.905   \n",
       "3    -5.238  ...          0.035900    0.0539    0.877  128.013   \n",
       "4    -7.386  ...          0.379000    0.1140    0.195  162.576   \n",
       "\n",
       "             type                                   uri  \\\n",
       "0  audio_features  spotify:track:1YLUxdSfbsXYktpkp1aUvd   \n",
       "1  audio_features  spotify:track:57HwKH3pHLeelTkckr94qf   \n",
       "2  audio_features  spotify:track:4Dy9SM605DwtyqEHGUj1ZD   \n",
       "3  audio_features  spotify:track:290xSzR8Ee9fm82poMg4od   \n",
       "4  audio_features  spotify:track:5ySZ6gVWw9XQf1Dxg4gj2M   \n",
       "\n",
       "                                          track_href  \\\n",
       "0  https://api.spotify.com/v1/tracks/1YLUxdSfbsXY...   \n",
       "1  https://api.spotify.com/v1/tracks/57HwKH3pHLee...   \n",
       "2  https://api.spotify.com/v1/tracks/4Dy9SM605Dwt...   \n",
       "3  https://api.spotify.com/v1/tracks/290xSzR8Ee9f...   \n",
       "4  https://api.spotify.com/v1/tracks/5ySZ6gVWw9XQ...   \n",
       "\n",
       "                                        analysis_url duration_ms  \\\n",
       "0  https://api.spotify.com/v1/audio-analysis/1YLU...    3.565633   \n",
       "1  https://api.spotify.com/v1/audio-analysis/57Hw...    2.984933   \n",
       "2  https://api.spotify.com/v1/audio-analysis/4Dy9...    3.643217   \n",
       "3  https://api.spotify.com/v1/audio-analysis/290x...    3.713117   \n",
       "4  https://api.spotify.com/v1/audio-analysis/5ySZ...    4.186217   \n",
       "\n",
       "  time_signature  \n",
       "0              4  \n",
       "1              4  \n",
       "2              4  \n",
       "3              4  \n",
       "4              4  \n",
       "\n",
       "[5 rows x 23 columns]"
      ]
     },
     "execution_count": 37,
     "metadata": {},
     "output_type": "execute_result"
    }
   ],
   "source": [
    "playlist = pd.read_csv('playlist_kai_jan20_sep21.csv')\n",
    "playlist.head()"
   ]
  },
  {
   "cell_type": "code",
   "execution_count": 38,
   "metadata": {},
   "outputs": [
    {
     "data": {
      "text/plain": [
       "(96, 23)"
      ]
     },
     "execution_count": 38,
     "metadata": {},
     "output_type": "execute_result"
    }
   ],
   "source": [
    "playlist.shape"
   ]
  },
  {
   "cell_type": "markdown",
   "metadata": {},
   "source": [
    "### KMEANS"
   ]
  },
  {
   "cell_type": "code",
   "execution_count": 43,
   "metadata": {},
   "outputs": [
    {
     "data": {
      "text/html": [
       "<div>\n",
       "<style scoped>\n",
       "    .dataframe tbody tr th:only-of-type {\n",
       "        vertical-align: middle;\n",
       "    }\n",
       "\n",
       "    .dataframe tbody tr th {\n",
       "        vertical-align: top;\n",
       "    }\n",
       "\n",
       "    .dataframe thead th {\n",
       "        text-align: right;\n",
       "    }\n",
       "</style>\n",
       "<table border=\"1\" class=\"dataframe\">\n",
       "  <thead>\n",
       "    <tr style=\"text-align: right;\">\n",
       "      <th></th>\n",
       "      <th>danceability</th>\n",
       "      <th>energy</th>\n",
       "      <th>loudness</th>\n",
       "      <th>speechiness</th>\n",
       "      <th>acousticness</th>\n",
       "      <th>instrumentalness</th>\n",
       "      <th>liveness</th>\n",
       "      <th>valence</th>\n",
       "      <th>tempo</th>\n",
       "      <th>duration_ms</th>\n",
       "    </tr>\n",
       "  </thead>\n",
       "  <tbody>\n",
       "    <tr>\n",
       "      <th>0</th>\n",
       "      <td>0.865</td>\n",
       "      <td>0.694</td>\n",
       "      <td>-6.358</td>\n",
       "      <td>0.0431</td>\n",
       "      <td>0.25200</td>\n",
       "      <td>0.000842</td>\n",
       "      <td>0.1100</td>\n",
       "      <td>0.661</td>\n",
       "      <td>103.988</td>\n",
       "      <td>3.565633</td>\n",
       "    </tr>\n",
       "    <tr>\n",
       "      <th>1</th>\n",
       "      <td>0.449</td>\n",
       "      <td>0.541</td>\n",
       "      <td>-10.299</td>\n",
       "      <td>0.0417</td>\n",
       "      <td>0.08730</td>\n",
       "      <td>0.000000</td>\n",
       "      <td>0.1700</td>\n",
       "      <td>0.276</td>\n",
       "      <td>125.156</td>\n",
       "      <td>2.984933</td>\n",
       "    </tr>\n",
       "    <tr>\n",
       "      <th>2</th>\n",
       "      <td>0.512</td>\n",
       "      <td>0.550</td>\n",
       "      <td>-8.264</td>\n",
       "      <td>0.0272</td>\n",
       "      <td>0.00688</td>\n",
       "      <td>0.000839</td>\n",
       "      <td>0.1060</td>\n",
       "      <td>0.480</td>\n",
       "      <td>99.905</td>\n",
       "      <td>3.643217</td>\n",
       "    </tr>\n",
       "    <tr>\n",
       "      <th>3</th>\n",
       "      <td>0.830</td>\n",
       "      <td>0.631</td>\n",
       "      <td>-5.238</td>\n",
       "      <td>0.0313</td>\n",
       "      <td>0.00220</td>\n",
       "      <td>0.035900</td>\n",
       "      <td>0.0539</td>\n",
       "      <td>0.877</td>\n",
       "      <td>128.013</td>\n",
       "      <td>3.713117</td>\n",
       "    </tr>\n",
       "    <tr>\n",
       "      <th>4</th>\n",
       "      <td>0.403</td>\n",
       "      <td>0.732</td>\n",
       "      <td>-7.386</td>\n",
       "      <td>0.0452</td>\n",
       "      <td>0.74800</td>\n",
       "      <td>0.379000</td>\n",
       "      <td>0.1140</td>\n",
       "      <td>0.195</td>\n",
       "      <td>162.576</td>\n",
       "      <td>4.186217</td>\n",
       "    </tr>\n",
       "  </tbody>\n",
       "</table>\n",
       "</div>"
      ],
      "text/plain": [
       "   danceability  energy  loudness  speechiness  acousticness  \\\n",
       "0         0.865   0.694    -6.358       0.0431       0.25200   \n",
       "1         0.449   0.541   -10.299       0.0417       0.08730   \n",
       "2         0.512   0.550    -8.264       0.0272       0.00688   \n",
       "3         0.830   0.631    -5.238       0.0313       0.00220   \n",
       "4         0.403   0.732    -7.386       0.0452       0.74800   \n",
       "\n",
       "   instrumentalness  liveness  valence    tempo  duration_ms  \n",
       "0          0.000842    0.1100    0.661  103.988     3.565633  \n",
       "1          0.000000    0.1700    0.276  125.156     2.984933  \n",
       "2          0.000839    0.1060    0.480   99.905     3.643217  \n",
       "3          0.035900    0.0539    0.877  128.013     3.713117  \n",
       "4          0.379000    0.1140    0.195  162.576     4.186217  "
      ]
     },
     "execution_count": 43,
     "metadata": {},
     "output_type": "execute_result"
    }
   ],
   "source": [
    "X = feautres\n",
    "\n",
    "X.head()"
   ]
  },
  {
   "cell_type": "code",
   "execution_count": 44,
   "metadata": {},
   "outputs": [
    {
     "data": {
      "text/plain": [
       "96"
      ]
     },
     "execution_count": 44,
     "metadata": {},
     "output_type": "execute_result"
    }
   ],
   "source": [
    "len(X)"
   ]
  },
  {
   "cell_type": "code",
   "execution_count": 45,
   "metadata": {},
   "outputs": [
    {
     "data": {
      "text/html": [
       "<div>\n",
       "<style scoped>\n",
       "    .dataframe tbody tr th:only-of-type {\n",
       "        vertical-align: middle;\n",
       "    }\n",
       "\n",
       "    .dataframe tbody tr th {\n",
       "        vertical-align: top;\n",
       "    }\n",
       "\n",
       "    .dataframe thead th {\n",
       "        text-align: right;\n",
       "    }\n",
       "</style>\n",
       "<table border=\"1\" class=\"dataframe\">\n",
       "  <thead>\n",
       "    <tr style=\"text-align: right;\">\n",
       "      <th></th>\n",
       "      <th>0</th>\n",
       "      <th>1</th>\n",
       "      <th>2</th>\n",
       "      <th>3</th>\n",
       "      <th>4</th>\n",
       "      <th>5</th>\n",
       "      <th>6</th>\n",
       "      <th>7</th>\n",
       "      <th>8</th>\n",
       "      <th>9</th>\n",
       "    </tr>\n",
       "  </thead>\n",
       "  <tbody>\n",
       "    <tr>\n",
       "      <th>0</th>\n",
       "      <td>1.853471</td>\n",
       "      <td>0.737705</td>\n",
       "      <td>0.974841</td>\n",
       "      <td>-0.130016</td>\n",
       "      <td>-0.359601</td>\n",
       "      <td>-0.772344</td>\n",
       "      <td>-0.419225</td>\n",
       "      <td>0.565800</td>\n",
       "      <td>-0.535314</td>\n",
       "      <td>-0.510808</td>\n",
       "    </tr>\n",
       "    <tr>\n",
       "      <th>1</th>\n",
       "      <td>-1.106982</td>\n",
       "      <td>-0.039378</td>\n",
       "      <td>-0.199228</td>\n",
       "      <td>-0.167442</td>\n",
       "      <td>-0.879237</td>\n",
       "      <td>-0.775059</td>\n",
       "      <td>0.021380</td>\n",
       "      <td>-1.064241</td>\n",
       "      <td>0.324005</td>\n",
       "      <td>-0.957877</td>\n",
       "    </tr>\n",
       "    <tr>\n",
       "      <th>2</th>\n",
       "      <td>-0.658644</td>\n",
       "      <td>0.006333</td>\n",
       "      <td>0.407021</td>\n",
       "      <td>-0.555068</td>\n",
       "      <td>-1.132965</td>\n",
       "      <td>-0.772353</td>\n",
       "      <td>-0.448599</td>\n",
       "      <td>-0.200531</td>\n",
       "      <td>-0.701064</td>\n",
       "      <td>-0.451079</td>\n",
       "    </tr>\n",
       "    <tr>\n",
       "      <th>3</th>\n",
       "      <td>1.604394</td>\n",
       "      <td>0.417729</td>\n",
       "      <td>1.308501</td>\n",
       "      <td>-0.445464</td>\n",
       "      <td>-1.147731</td>\n",
       "      <td>-0.659295</td>\n",
       "      <td>-0.831191</td>\n",
       "      <td>1.480317</td>\n",
       "      <td>0.439985</td>\n",
       "      <td>-0.397264</td>\n",
       "    </tr>\n",
       "    <tr>\n",
       "      <th>4</th>\n",
       "      <td>-1.434340</td>\n",
       "      <td>0.930706</td>\n",
       "      <td>0.668588</td>\n",
       "      <td>-0.073877</td>\n",
       "      <td>1.205301</td>\n",
       "      <td>0.447077</td>\n",
       "      <td>-0.389851</td>\n",
       "      <td>-1.407185</td>\n",
       "      <td>1.843075</td>\n",
       "      <td>-0.033034</td>\n",
       "    </tr>\n",
       "  </tbody>\n",
       "</table>\n",
       "</div>"
      ],
      "text/plain": [
       "          0         1         2         3         4         5         6  \\\n",
       "0  1.853471  0.737705  0.974841 -0.130016 -0.359601 -0.772344 -0.419225   \n",
       "1 -1.106982 -0.039378 -0.199228 -0.167442 -0.879237 -0.775059  0.021380   \n",
       "2 -0.658644  0.006333  0.407021 -0.555068 -1.132965 -0.772353 -0.448599   \n",
       "3  1.604394  0.417729  1.308501 -0.445464 -1.147731 -0.659295 -0.831191   \n",
       "4 -1.434340  0.930706  0.668588 -0.073877  1.205301  0.447077 -0.389851   \n",
       "\n",
       "          7         8         9  \n",
       "0  0.565800 -0.535314 -0.510808  \n",
       "1 -1.064241  0.324005 -0.957877  \n",
       "2 -0.200531 -0.701064 -0.451079  \n",
       "3  1.480317  0.439985 -0.397264  \n",
       "4 -1.407185  1.843075 -0.033034  "
      ]
     },
     "execution_count": 45,
     "metadata": {},
     "output_type": "execute_result"
    }
   ],
   "source": [
    "# K-Means is a distance based algorithm: we need to scale / normalize:\n",
    "from sklearn.preprocessing import StandardScaler\n",
    "X_prep = StandardScaler().fit_transform(X)\n",
    "\n",
    "pd.DataFrame(X_prep).head()"
   ]
  },
  {
   "cell_type": "markdown",
   "metadata": {},
   "source": [
    "#### Clustering:"
   ]
  },
  {
   "cell_type": "code",
   "execution_count": 46,
   "metadata": {},
   "outputs": [
    {
     "data": {
      "text/plain": [
       "KMeans(n_clusters=3, random_state=42)"
      ]
     },
     "execution_count": 46,
     "metadata": {},
     "output_type": "execute_result"
    }
   ],
   "source": [
    "from sklearn.cluster import KMeans\n",
    "\n",
    "kmeans = KMeans(n_clusters=3, random_state=42)\n",
    "kmeans.fit(X_prep)"
   ]
  },
  {
   "cell_type": "code",
   "execution_count": 47,
   "metadata": {},
   "outputs": [
    {
     "data": {
      "text/plain": [
       "array([1, 1, 1, 1, 2, 0, 2, 1, 1, 2, 1, 1, 1, 0, 0, 0, 1, 1, 1, 1, 2, 2,\n",
       "       0, 0, 1, 1, 1, 0, 0, 2, 2, 2, 1, 1, 1, 1, 1, 1, 2, 2, 2, 2, 1, 0,\n",
       "       1, 0, 2, 1, 0, 0, 0, 2, 0, 1, 1, 2, 1, 1, 2, 2, 2, 1, 2, 0, 1, 1,\n",
       "       1, 1, 2, 2, 1, 1, 0, 1, 0, 1, 1, 0, 1, 1, 0, 0, 1, 1, 2, 2, 1, 0,\n",
       "       2, 1, 1, 1, 0, 0, 0, 0])"
      ]
     },
     "execution_count": 47,
     "metadata": {},
     "output_type": "execute_result"
    }
   ],
   "source": [
    "# Predicting / assigning the clusters:\n",
    "clusters = kmeans.predict(X_prep)\n",
    "clusters"
   ]
  },
  {
   "cell_type": "code",
   "execution_count": 48,
   "metadata": {},
   "outputs": [
    {
     "data": {
      "text/plain": [
       "0    25\n",
       "1    47\n",
       "2    24\n",
       "dtype: int64"
      ]
     },
     "execution_count": 48,
     "metadata": {},
     "output_type": "execute_result"
    }
   ],
   "source": [
    "# Check the size of the clusters\n",
    "pd.Series(clusters).value_counts().sort_index()"
   ]
  },
  {
   "cell_type": "code",
   "execution_count": 49,
   "metadata": {},
   "outputs": [
    {
     "data": {
      "text/html": [
       "<div>\n",
       "<style scoped>\n",
       "    .dataframe tbody tr th:only-of-type {\n",
       "        vertical-align: middle;\n",
       "    }\n",
       "\n",
       "    .dataframe tbody tr th {\n",
       "        vertical-align: top;\n",
       "    }\n",
       "\n",
       "    .dataframe thead th {\n",
       "        text-align: right;\n",
       "    }\n",
       "</style>\n",
       "<table border=\"1\" class=\"dataframe\">\n",
       "  <thead>\n",
       "    <tr style=\"text-align: right;\">\n",
       "      <th></th>\n",
       "      <th>danceability</th>\n",
       "      <th>energy</th>\n",
       "      <th>loudness</th>\n",
       "      <th>speechiness</th>\n",
       "      <th>acousticness</th>\n",
       "      <th>instrumentalness</th>\n",
       "      <th>liveness</th>\n",
       "      <th>valence</th>\n",
       "      <th>tempo</th>\n",
       "      <th>duration_ms</th>\n",
       "      <th>cluster</th>\n",
       "    </tr>\n",
       "  </thead>\n",
       "  <tbody>\n",
       "    <tr>\n",
       "      <th>0</th>\n",
       "      <td>0.865</td>\n",
       "      <td>0.694</td>\n",
       "      <td>-6.358</td>\n",
       "      <td>0.0431</td>\n",
       "      <td>0.25200</td>\n",
       "      <td>0.000842</td>\n",
       "      <td>0.1100</td>\n",
       "      <td>0.6610</td>\n",
       "      <td>103.988</td>\n",
       "      <td>3.565633</td>\n",
       "      <td>0</td>\n",
       "    </tr>\n",
       "    <tr>\n",
       "      <th>1</th>\n",
       "      <td>0.449</td>\n",
       "      <td>0.541</td>\n",
       "      <td>-10.299</td>\n",
       "      <td>0.0417</td>\n",
       "      <td>0.08730</td>\n",
       "      <td>0.000000</td>\n",
       "      <td>0.1700</td>\n",
       "      <td>0.2760</td>\n",
       "      <td>125.156</td>\n",
       "      <td>2.984933</td>\n",
       "      <td>0</td>\n",
       "    </tr>\n",
       "    <tr>\n",
       "      <th>2</th>\n",
       "      <td>0.512</td>\n",
       "      <td>0.550</td>\n",
       "      <td>-8.264</td>\n",
       "      <td>0.0272</td>\n",
       "      <td>0.00688</td>\n",
       "      <td>0.000839</td>\n",
       "      <td>0.1060</td>\n",
       "      <td>0.4800</td>\n",
       "      <td>99.905</td>\n",
       "      <td>3.643217</td>\n",
       "      <td>0</td>\n",
       "    </tr>\n",
       "    <tr>\n",
       "      <th>3</th>\n",
       "      <td>0.830</td>\n",
       "      <td>0.631</td>\n",
       "      <td>-5.238</td>\n",
       "      <td>0.0313</td>\n",
       "      <td>0.00220</td>\n",
       "      <td>0.035900</td>\n",
       "      <td>0.0539</td>\n",
       "      <td>0.8770</td>\n",
       "      <td>128.013</td>\n",
       "      <td>3.713117</td>\n",
       "      <td>0</td>\n",
       "    </tr>\n",
       "    <tr>\n",
       "      <th>4</th>\n",
       "      <td>0.403</td>\n",
       "      <td>0.732</td>\n",
       "      <td>-7.386</td>\n",
       "      <td>0.0452</td>\n",
       "      <td>0.74800</td>\n",
       "      <td>0.379000</td>\n",
       "      <td>0.1140</td>\n",
       "      <td>0.1950</td>\n",
       "      <td>162.576</td>\n",
       "      <td>4.186217</td>\n",
       "      <td>1</td>\n",
       "    </tr>\n",
       "    <tr>\n",
       "      <th>...</th>\n",
       "      <td>...</td>\n",
       "      <td>...</td>\n",
       "      <td>...</td>\n",
       "      <td>...</td>\n",
       "      <td>...</td>\n",
       "      <td>...</td>\n",
       "      <td>...</td>\n",
       "      <td>...</td>\n",
       "      <td>...</td>\n",
       "      <td>...</td>\n",
       "      <td>...</td>\n",
       "    </tr>\n",
       "    <tr>\n",
       "      <th>91</th>\n",
       "      <td>0.864</td>\n",
       "      <td>0.385</td>\n",
       "      <td>-11.553</td>\n",
       "      <td>0.0454</td>\n",
       "      <td>0.10200</td>\n",
       "      <td>0.053900</td>\n",
       "      <td>0.1430</td>\n",
       "      <td>0.6650</td>\n",
       "      <td>113.014</td>\n",
       "      <td>3.428000</td>\n",
       "      <td>0</td>\n",
       "    </tr>\n",
       "    <tr>\n",
       "      <th>92</th>\n",
       "      <td>0.659</td>\n",
       "      <td>0.387</td>\n",
       "      <td>-13.172</td>\n",
       "      <td>0.0335</td>\n",
       "      <td>0.46700</td>\n",
       "      <td>0.692000</td>\n",
       "      <td>0.0839</td>\n",
       "      <td>0.0779</td>\n",
       "      <td>114.989</td>\n",
       "      <td>4.659550</td>\n",
       "      <td>2</td>\n",
       "    </tr>\n",
       "    <tr>\n",
       "      <th>93</th>\n",
       "      <td>0.566</td>\n",
       "      <td>0.757</td>\n",
       "      <td>-8.370</td>\n",
       "      <td>0.0355</td>\n",
       "      <td>0.32800</td>\n",
       "      <td>0.840000</td>\n",
       "      <td>0.3960</td>\n",
       "      <td>0.4030</td>\n",
       "      <td>102.016</td>\n",
       "      <td>4.453350</td>\n",
       "      <td>2</td>\n",
       "    </tr>\n",
       "    <tr>\n",
       "      <th>94</th>\n",
       "      <td>0.663</td>\n",
       "      <td>0.502</td>\n",
       "      <td>-11.988</td>\n",
       "      <td>0.0399</td>\n",
       "      <td>0.24600</td>\n",
       "      <td>0.772000</td>\n",
       "      <td>0.0711</td>\n",
       "      <td>0.1180</td>\n",
       "      <td>100.008</td>\n",
       "      <td>4.455067</td>\n",
       "      <td>2</td>\n",
       "    </tr>\n",
       "    <tr>\n",
       "      <th>95</th>\n",
       "      <td>0.598</td>\n",
       "      <td>0.630</td>\n",
       "      <td>-10.492</td>\n",
       "      <td>0.0250</td>\n",
       "      <td>0.56600</td>\n",
       "      <td>0.338000</td>\n",
       "      <td>0.1790</td>\n",
       "      <td>0.6970</td>\n",
       "      <td>108.947</td>\n",
       "      <td>7.277567</td>\n",
       "      <td>2</td>\n",
       "    </tr>\n",
       "  </tbody>\n",
       "</table>\n",
       "<p>96 rows × 11 columns</p>\n",
       "</div>"
      ],
      "text/plain": [
       "    danceability  energy  loudness  speechiness  acousticness  \\\n",
       "0          0.865   0.694    -6.358       0.0431       0.25200   \n",
       "1          0.449   0.541   -10.299       0.0417       0.08730   \n",
       "2          0.512   0.550    -8.264       0.0272       0.00688   \n",
       "3          0.830   0.631    -5.238       0.0313       0.00220   \n",
       "4          0.403   0.732    -7.386       0.0452       0.74800   \n",
       "..           ...     ...       ...          ...           ...   \n",
       "91         0.864   0.385   -11.553       0.0454       0.10200   \n",
       "92         0.659   0.387   -13.172       0.0335       0.46700   \n",
       "93         0.566   0.757    -8.370       0.0355       0.32800   \n",
       "94         0.663   0.502   -11.988       0.0399       0.24600   \n",
       "95         0.598   0.630   -10.492       0.0250       0.56600   \n",
       "\n",
       "    instrumentalness  liveness  valence    tempo  duration_ms  cluster  \n",
       "0           0.000842    0.1100   0.6610  103.988     3.565633        0  \n",
       "1           0.000000    0.1700   0.2760  125.156     2.984933        0  \n",
       "2           0.000839    0.1060   0.4800   99.905     3.643217        0  \n",
       "3           0.035900    0.0539   0.8770  128.013     3.713117        0  \n",
       "4           0.379000    0.1140   0.1950  162.576     4.186217        1  \n",
       "..               ...       ...      ...      ...          ...      ...  \n",
       "91          0.053900    0.1430   0.6650  113.014     3.428000        0  \n",
       "92          0.692000    0.0839   0.0779  114.989     4.659550        2  \n",
       "93          0.840000    0.3960   0.4030  102.016     4.453350        2  \n",
       "94          0.772000    0.0711   0.1180  100.008     4.455067        2  \n",
       "95          0.338000    0.1790   0.6970  108.947     7.277567        2  \n",
       "\n",
       "[96 rows x 11 columns]"
      ]
     },
     "execution_count": 49,
     "metadata": {},
     "output_type": "execute_result"
    }
   ],
   "source": [
    "# Explore the cluster assignment in the original dataset\n",
    "X_df = pd.DataFrame(X)\n",
    "X_df[\"cluster\"] = clusters\n",
    "X_df.head()\n",
    "\n",
    "X_df['cluster'] = X_df['cluster'].apply(lambda x: 0 if x == 1 else 1 if x == 2 else 2)\n",
    "X_df"
   ]
  },
  {
   "cell_type": "code",
   "execution_count": 50,
   "metadata": {},
   "outputs": [
    {
     "data": {
      "text/plain": [
       "687.5298714303228"
      ]
     },
     "execution_count": 50,
     "metadata": {},
     "output_type": "execute_result"
    }
   ],
   "source": [
    "# \"performance metric\"\n",
    "kmeans.inertia_"
   ]
  },
  {
   "cell_type": "markdown",
   "metadata": {},
   "source": [
    "### Choosing the best K\n",
    "#### Inertia"
   ]
  },
  {
   "cell_type": "code",
   "execution_count": 53,
   "metadata": {},
   "outputs": [
    {
     "name": "stdout",
     "output_type": "stream",
     "text": [
      "Initialization complete\n",
      "Iteration 0, inertia 1018.1884994635325\n",
      "Iteration 1, inertia 747.574687983598\n",
      "Iteration 2, inertia 723.627909097223\n",
      "Iteration 3, inertia 703.7890348466105\n",
      "Iteration 4, inertia 697.0806368012246\n",
      "Iteration 5, inertia 690.2030159903524\n",
      "Iteration 6, inertia 688.4015885695474\n",
      "Iteration 7, inertia 687.8507962862802\n",
      "Iteration 8, inertia 687.2733470163898\n",
      "Converged at iteration 8: strict convergence.\n"
     ]
    },
    {
     "data": {
      "text/plain": [
       "687.2733470163898"
      ]
     },
     "execution_count": 53,
     "metadata": {},
     "output_type": "execute_result"
    }
   ],
   "source": [
    "kmeans = KMeans(n_clusters=3, random_state=1234, verbose=1, n_init=1)\n",
    "kmeans.fit(X_prep)\n",
    "kmeans.inertia_"
   ]
  },
  {
   "cell_type": "code",
   "execution_count": 61,
   "metadata": {},
   "outputs": [
    {
     "name": "stderr",
     "output_type": "stream",
     "text": [
      "C:\\Users\\charlotte.stiller\\Anaconda3\\lib\\site-packages\\sklearn\\cluster\\_kmeans.py:881: UserWarning: KMeans is known to have a memory leak on Windows with MKL, when there are less chunks than available threads. You can avoid it by setting the environment variable OMP_NUM_THREADS=1.\n",
      "  warnings.warn(\n"
     ]
    },
    {
     "data": {
      "image/png": "[encoded data removed]",
      "text/plain": [
       "<Figure size 1152x576 with 1 Axes>"
      ]
     },
     "metadata": {
      "needs_background": "light"
     },
     "output_type": "display_data"
    }
   ],
   "source": [
    "K = range(1, 20,2)\n",
    "\n",
    "inertia = []\n",
    "\n",
    "for k in K:\n",
    "    kmeans = KMeans(n_clusters=k, random_state=1234)\n",
    "    kmeans.fit(X_prep)\n",
    "    inertia.append(kmeans.inertia_)\n",
    "    \n",
    "plt.figure(figsize=(16,8))\n",
    "plt.plot(K, inertia, 'bx-')\n",
    "plt.xlabel('k')\n",
    "plt.ylabel('inertia')\n",
    "plt.xticks(np.arange(min(K), max(K)+1, 1.0))\n",
    "plt.show()"
   ]
  },
  {
   "cell_type": "markdown",
   "metadata": {},
   "source": [
    "### k = 9"
   ]
  },
  {
   "cell_type": "code",
   "execution_count": 62,
   "metadata": {},
   "outputs": [
    {
     "data": {
      "text/plain": [
       "KMeans(n_clusters=9, random_state=42)"
      ]
     },
     "execution_count": 62,
     "metadata": {},
     "output_type": "execute_result"
    }
   ],
   "source": [
    "kmeans = KMeans(n_clusters=9, random_state=42)\n",
    "kmeans.fit(X_prep)"
   ]
  },
  {
   "cell_type": "code",
   "execution_count": 63,
   "metadata": {},
   "outputs": [
    {
     "data": {
      "text/plain": [
       "array([1, 2, 2, 1, 7, 0, 7, 2, 1, 8, 1, 1, 1, 0, 4, 0, 4, 1, 1, 1, 5, 5,\n",
       "       2, 4, 7, 1, 7, 4, 4, 3, 2, 3, 2, 8, 1, 1, 1, 1, 3, 3, 5, 5, 1, 2,\n",
       "       7, 0, 5, 1, 0, 0, 2, 5, 2, 8, 6, 7, 1, 6, 3, 3, 3, 2, 5, 2, 1, 1,\n",
       "       2, 7, 5, 5, 7, 1, 0, 1, 2, 1, 1, 4, 1, 1, 0, 4, 1, 1, 5, 5, 7, 2,\n",
       "       0, 4, 4, 1, 0, 0, 0, 4])"
      ]
     },
     "execution_count": 63,
     "metadata": {},
     "output_type": "execute_result"
    }
   ],
   "source": [
    "clusters = kmeans.predict(X_prep)\n",
    "clusters"
   ]
  },
  {
   "cell_type": "code",
   "execution_count": 65,
   "metadata": {},
   "outputs": [
    {
     "data": {
      "text/plain": [
       "0    12\n",
       "1    28\n",
       "2    14\n",
       "3     7\n",
       "4    10\n",
       "5    11\n",
       "6     2\n",
       "7     9\n",
       "8     3\n",
       "dtype: int64"
      ]
     },
     "execution_count": 65,
     "metadata": {},
     "output_type": "execute_result"
    }
   ],
   "source": [
    "pd.Series(clusters).value_counts().sort_index()"
   ]
  },
  {
   "cell_type": "code",
   "execution_count": 64,
   "metadata": {},
   "outputs": [
    {
     "data": {
      "text/plain": [
       "434.7201987449001"
      ]
     },
     "execution_count": 64,
     "metadata": {},
     "output_type": "execute_result"
    }
   ],
   "source": [
    "kmeans.inertia_\n",
    "# k 3 = inertia 687.5298714303228"
   ]
  },
  {
   "cell_type": "markdown",
   "metadata": {},
   "source": [
    "#### Silhouette Score"
   ]
  },
  {
   "cell_type": "code",
   "execution_count": 66,
   "metadata": {},
   "outputs": [
    {
     "data": {
      "image/png": "[encoded data removed]",
      "text/plain": [
       "<Figure size 1152x576 with 1 Axes>"
      ]
     },
     "metadata": {
      "needs_background": "light"
     },
     "output_type": "display_data"
    }
   ],
   "source": [
    "from sklearn.metrics import silhouette_score\n",
    "K = range(2, 20)\n",
    "\n",
    "silhouette = []\n",
    "\n",
    "for k in K:\n",
    "    kmeans = KMeans(n_clusters=k, random_state=42)\n",
    "    kmeans.fit(X_prep)\n",
    "    silhouette.append(silhouette_score(X_prep, kmeans.predict(X_prep)))\n",
    "\n",
    "\n",
    "plt.figure(figsize=(16,8))\n",
    "plt.plot(K, silhouette, 'bx-')\n",
    "plt.xlabel('k')\n",
    "plt.ylabel('silhouette score')\n",
    "plt.xticks(np.arange(min(K), max(K)+1, 1.0))\n",
    "plt.show()"
   ]
  }
 ],
 "metadata": {
  "kernelspec": {
   "display_name": "Python 3",
   "language": "python",
   "name": "python3"
  },
  "language_info": {
   "codemirror_mode": {
    "name": "ipython",
    "version": 3
   },
   "file_extension": ".py",
   "mimetype": "text/x-python",
   "name": "python",
   "nbconvert_exporter": "python",
   "pygments_lexer": "ipython3",
   "version": "3.8.8"
  }
 },
 "nbformat": 4,
 "nbformat_minor": 4
}
